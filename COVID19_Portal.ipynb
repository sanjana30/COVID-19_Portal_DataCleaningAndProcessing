{
  "nbformat": 4,
  "nbformat_minor": 0,
  "metadata": {
    "colab": {
      "name": "COVID19-Portal.ipynb",
      "provenance": [],
      "collapsed_sections": []
    },
    "kernelspec": {
      "name": "python3",
      "display_name": "Python 3"
    }
  },
  "cells": [
    {
      "cell_type": "markdown",
      "metadata": {
        "id": "5kWt9F0yCD9w"
      },
      "source": [
        "# Pubmed Dataset\n",
        "Cleaning the Affiliation names (related to papers) so that they contain only university and country\n"
      ]
    },
    {
      "cell_type": "code",
      "metadata": {
        "id": "cevYyIvAB--N",
        "outputId": "9f454900-ea6f-40b9-84a6-2850f16cae3a",
        "colab": {
          "base_uri": "https://localhost:8080/",
          "height": 426
        }
      },
      "source": [
        "import pandas as pd\n",
        "file = pd.read_csv('/content/Ace2AffiliationsRaw.csv', header=None)\n",
        "file.info()\n",
        "\n"
      ],
      "execution_count": null,
      "outputs": [
        {
          "output_type": "error",
          "ename": "FileNotFoundError",
          "evalue": "ignored",
          "traceback": [
            "\u001b[0;31m---------------------------------------------------------------------------\u001b[0m",
            "\u001b[0;31mFileNotFoundError\u001b[0m                         Traceback (most recent call last)",
            "\u001b[0;32m<ipython-input-1-0fe994abf402>\u001b[0m in \u001b[0;36m<module>\u001b[0;34m()\u001b[0m\n\u001b[1;32m      1\u001b[0m \u001b[0;32mimport\u001b[0m \u001b[0mpandas\u001b[0m \u001b[0;32mas\u001b[0m \u001b[0mpd\u001b[0m\u001b[0;34m\u001b[0m\u001b[0;34m\u001b[0m\u001b[0m\n\u001b[0;32m----> 2\u001b[0;31m \u001b[0mfile\u001b[0m \u001b[0;34m=\u001b[0m \u001b[0mpd\u001b[0m\u001b[0;34m.\u001b[0m\u001b[0mread_csv\u001b[0m\u001b[0;34m(\u001b[0m\u001b[0;34m'/content/Ace2AffiliationsRaw.csv'\u001b[0m\u001b[0;34m,\u001b[0m \u001b[0mheader\u001b[0m\u001b[0;34m=\u001b[0m\u001b[0;32mNone\u001b[0m\u001b[0;34m)\u001b[0m\u001b[0;34m\u001b[0m\u001b[0;34m\u001b[0m\u001b[0m\n\u001b[0m\u001b[1;32m      3\u001b[0m \u001b[0mfile\u001b[0m\u001b[0;34m.\u001b[0m\u001b[0minfo\u001b[0m\u001b[0;34m(\u001b[0m\u001b[0;34m)\u001b[0m\u001b[0;34m\u001b[0m\u001b[0;34m\u001b[0m\u001b[0m\n\u001b[1;32m      4\u001b[0m \u001b[0;34m\u001b[0m\u001b[0m\n",
            "\u001b[0;32m/usr/local/lib/python3.6/dist-packages/pandas/io/parsers.py\u001b[0m in \u001b[0;36mparser_f\u001b[0;34m(filepath_or_buffer, sep, delimiter, header, names, index_col, usecols, squeeze, prefix, mangle_dupe_cols, dtype, engine, converters, true_values, false_values, skipinitialspace, skiprows, skipfooter, nrows, na_values, keep_default_na, na_filter, verbose, skip_blank_lines, parse_dates, infer_datetime_format, keep_date_col, date_parser, dayfirst, cache_dates, iterator, chunksize, compression, thousands, decimal, lineterminator, quotechar, quoting, doublequote, escapechar, comment, encoding, dialect, error_bad_lines, warn_bad_lines, delim_whitespace, low_memory, memory_map, float_precision)\u001b[0m\n\u001b[1;32m    674\u001b[0m         )\n\u001b[1;32m    675\u001b[0m \u001b[0;34m\u001b[0m\u001b[0m\n\u001b[0;32m--> 676\u001b[0;31m         \u001b[0;32mreturn\u001b[0m \u001b[0m_read\u001b[0m\u001b[0;34m(\u001b[0m\u001b[0mfilepath_or_buffer\u001b[0m\u001b[0;34m,\u001b[0m \u001b[0mkwds\u001b[0m\u001b[0;34m)\u001b[0m\u001b[0;34m\u001b[0m\u001b[0;34m\u001b[0m\u001b[0m\n\u001b[0m\u001b[1;32m    677\u001b[0m \u001b[0;34m\u001b[0m\u001b[0m\n\u001b[1;32m    678\u001b[0m     \u001b[0mparser_f\u001b[0m\u001b[0;34m.\u001b[0m\u001b[0m__name__\u001b[0m \u001b[0;34m=\u001b[0m \u001b[0mname\u001b[0m\u001b[0;34m\u001b[0m\u001b[0;34m\u001b[0m\u001b[0m\n",
            "\u001b[0;32m/usr/local/lib/python3.6/dist-packages/pandas/io/parsers.py\u001b[0m in \u001b[0;36m_read\u001b[0;34m(filepath_or_buffer, kwds)\u001b[0m\n\u001b[1;32m    446\u001b[0m \u001b[0;34m\u001b[0m\u001b[0m\n\u001b[1;32m    447\u001b[0m     \u001b[0;31m# Create the parser.\u001b[0m\u001b[0;34m\u001b[0m\u001b[0;34m\u001b[0m\u001b[0;34m\u001b[0m\u001b[0m\n\u001b[0;32m--> 448\u001b[0;31m     \u001b[0mparser\u001b[0m \u001b[0;34m=\u001b[0m \u001b[0mTextFileReader\u001b[0m\u001b[0;34m(\u001b[0m\u001b[0mfp_or_buf\u001b[0m\u001b[0;34m,\u001b[0m \u001b[0;34m**\u001b[0m\u001b[0mkwds\u001b[0m\u001b[0;34m)\u001b[0m\u001b[0;34m\u001b[0m\u001b[0;34m\u001b[0m\u001b[0m\n\u001b[0m\u001b[1;32m    449\u001b[0m \u001b[0;34m\u001b[0m\u001b[0m\n\u001b[1;32m    450\u001b[0m     \u001b[0;32mif\u001b[0m \u001b[0mchunksize\u001b[0m \u001b[0;32mor\u001b[0m \u001b[0miterator\u001b[0m\u001b[0;34m:\u001b[0m\u001b[0;34m\u001b[0m\u001b[0;34m\u001b[0m\u001b[0m\n",
            "\u001b[0;32m/usr/local/lib/python3.6/dist-packages/pandas/io/parsers.py\u001b[0m in \u001b[0;36m__init__\u001b[0;34m(self, f, engine, **kwds)\u001b[0m\n\u001b[1;32m    878\u001b[0m             \u001b[0mself\u001b[0m\u001b[0;34m.\u001b[0m\u001b[0moptions\u001b[0m\u001b[0;34m[\u001b[0m\u001b[0;34m\"has_index_names\"\u001b[0m\u001b[0;34m]\u001b[0m \u001b[0;34m=\u001b[0m \u001b[0mkwds\u001b[0m\u001b[0;34m[\u001b[0m\u001b[0;34m\"has_index_names\"\u001b[0m\u001b[0;34m]\u001b[0m\u001b[0;34m\u001b[0m\u001b[0;34m\u001b[0m\u001b[0m\n\u001b[1;32m    879\u001b[0m \u001b[0;34m\u001b[0m\u001b[0m\n\u001b[0;32m--> 880\u001b[0;31m         \u001b[0mself\u001b[0m\u001b[0;34m.\u001b[0m\u001b[0m_make_engine\u001b[0m\u001b[0;34m(\u001b[0m\u001b[0mself\u001b[0m\u001b[0;34m.\u001b[0m\u001b[0mengine\u001b[0m\u001b[0;34m)\u001b[0m\u001b[0;34m\u001b[0m\u001b[0;34m\u001b[0m\u001b[0m\n\u001b[0m\u001b[1;32m    881\u001b[0m \u001b[0;34m\u001b[0m\u001b[0m\n\u001b[1;32m    882\u001b[0m     \u001b[0;32mdef\u001b[0m \u001b[0mclose\u001b[0m\u001b[0;34m(\u001b[0m\u001b[0mself\u001b[0m\u001b[0;34m)\u001b[0m\u001b[0;34m:\u001b[0m\u001b[0;34m\u001b[0m\u001b[0;34m\u001b[0m\u001b[0m\n",
            "\u001b[0;32m/usr/local/lib/python3.6/dist-packages/pandas/io/parsers.py\u001b[0m in \u001b[0;36m_make_engine\u001b[0;34m(self, engine)\u001b[0m\n\u001b[1;32m   1112\u001b[0m     \u001b[0;32mdef\u001b[0m \u001b[0m_make_engine\u001b[0m\u001b[0;34m(\u001b[0m\u001b[0mself\u001b[0m\u001b[0;34m,\u001b[0m \u001b[0mengine\u001b[0m\u001b[0;34m=\u001b[0m\u001b[0;34m\"c\"\u001b[0m\u001b[0;34m)\u001b[0m\u001b[0;34m:\u001b[0m\u001b[0;34m\u001b[0m\u001b[0;34m\u001b[0m\u001b[0m\n\u001b[1;32m   1113\u001b[0m         \u001b[0;32mif\u001b[0m \u001b[0mengine\u001b[0m \u001b[0;34m==\u001b[0m \u001b[0;34m\"c\"\u001b[0m\u001b[0;34m:\u001b[0m\u001b[0;34m\u001b[0m\u001b[0;34m\u001b[0m\u001b[0m\n\u001b[0;32m-> 1114\u001b[0;31m             \u001b[0mself\u001b[0m\u001b[0;34m.\u001b[0m\u001b[0m_engine\u001b[0m \u001b[0;34m=\u001b[0m \u001b[0mCParserWrapper\u001b[0m\u001b[0;34m(\u001b[0m\u001b[0mself\u001b[0m\u001b[0;34m.\u001b[0m\u001b[0mf\u001b[0m\u001b[0;34m,\u001b[0m \u001b[0;34m**\u001b[0m\u001b[0mself\u001b[0m\u001b[0;34m.\u001b[0m\u001b[0moptions\u001b[0m\u001b[0;34m)\u001b[0m\u001b[0;34m\u001b[0m\u001b[0;34m\u001b[0m\u001b[0m\n\u001b[0m\u001b[1;32m   1115\u001b[0m         \u001b[0;32melse\u001b[0m\u001b[0;34m:\u001b[0m\u001b[0;34m\u001b[0m\u001b[0;34m\u001b[0m\u001b[0m\n\u001b[1;32m   1116\u001b[0m             \u001b[0;32mif\u001b[0m \u001b[0mengine\u001b[0m \u001b[0;34m==\u001b[0m \u001b[0;34m\"python\"\u001b[0m\u001b[0;34m:\u001b[0m\u001b[0;34m\u001b[0m\u001b[0;34m\u001b[0m\u001b[0m\n",
            "\u001b[0;32m/usr/local/lib/python3.6/dist-packages/pandas/io/parsers.py\u001b[0m in \u001b[0;36m__init__\u001b[0;34m(self, src, **kwds)\u001b[0m\n\u001b[1;32m   1889\u001b[0m         \u001b[0mkwds\u001b[0m\u001b[0;34m[\u001b[0m\u001b[0;34m\"usecols\"\u001b[0m\u001b[0;34m]\u001b[0m \u001b[0;34m=\u001b[0m \u001b[0mself\u001b[0m\u001b[0;34m.\u001b[0m\u001b[0musecols\u001b[0m\u001b[0;34m\u001b[0m\u001b[0;34m\u001b[0m\u001b[0m\n\u001b[1;32m   1890\u001b[0m \u001b[0;34m\u001b[0m\u001b[0m\n\u001b[0;32m-> 1891\u001b[0;31m         \u001b[0mself\u001b[0m\u001b[0;34m.\u001b[0m\u001b[0m_reader\u001b[0m \u001b[0;34m=\u001b[0m \u001b[0mparsers\u001b[0m\u001b[0;34m.\u001b[0m\u001b[0mTextReader\u001b[0m\u001b[0;34m(\u001b[0m\u001b[0msrc\u001b[0m\u001b[0;34m,\u001b[0m \u001b[0;34m**\u001b[0m\u001b[0mkwds\u001b[0m\u001b[0;34m)\u001b[0m\u001b[0;34m\u001b[0m\u001b[0;34m\u001b[0m\u001b[0m\n\u001b[0m\u001b[1;32m   1892\u001b[0m         \u001b[0mself\u001b[0m\u001b[0;34m.\u001b[0m\u001b[0munnamed_cols\u001b[0m \u001b[0;34m=\u001b[0m \u001b[0mself\u001b[0m\u001b[0;34m.\u001b[0m\u001b[0m_reader\u001b[0m\u001b[0;34m.\u001b[0m\u001b[0munnamed_cols\u001b[0m\u001b[0;34m\u001b[0m\u001b[0;34m\u001b[0m\u001b[0m\n\u001b[1;32m   1893\u001b[0m \u001b[0;34m\u001b[0m\u001b[0m\n",
            "\u001b[0;32mpandas/_libs/parsers.pyx\u001b[0m in \u001b[0;36mpandas._libs.parsers.TextReader.__cinit__\u001b[0;34m()\u001b[0m\n",
            "\u001b[0;32mpandas/_libs/parsers.pyx\u001b[0m in \u001b[0;36mpandas._libs.parsers.TextReader._setup_parser_source\u001b[0;34m()\u001b[0m\n",
            "\u001b[0;31mFileNotFoundError\u001b[0m: [Errno 2] File /content/Ace2AffiliationsRaw.csv does not exist: '/content/Ace2AffiliationsRaw.csv'"
          ]
        }
      ]
    },
    {
      "cell_type": "code",
      "metadata": {
        "id": "Ua5H1pSlGKKZ",
        "outputId": "f6a144fd-7e23-4b35-ff4a-033e777da2d9",
        "colab": {
          "base_uri": "https://localhost:8080/",
          "height": 34
        }
      },
      "source": [
        "print(file.loc[0, 1])"
      ],
      "execution_count": null,
      "outputs": [
        {
          "output_type": "stream",
          "text": [
            "Department of Gastroenterology, Ruijin Hospital, Shanghai Jiaotong University School of Medicine, Shanghai, China.\n"
          ],
          "name": "stdout"
        }
      ]
    },
    {
      "cell_type": "code",
      "metadata": {
        "id": "eXvRw3BJGOt_"
      },
      "source": [
        "affilList = []\n",
        "for row in range(0, 65):\n",
        "  affilList.append(file.loc[row,1])\n"
      ],
      "execution_count": null,
      "outputs": []
    },
    {
      "cell_type": "code",
      "metadata": {
        "id": "s1jL_aJ2JhDK",
        "outputId": "7915d0fb-9dde-405d-fbb2-8cf25cbc8ef2",
        "colab": {
          "base_uri": "https://localhost:8080/",
          "height": 1000
        }
      },
      "source": [
        "affiliationNames = []\n",
        "for i in range(0,len(affilList)):\n",
        "  x = affilList[i].split(\", \")\n",
        "  for j in range(0, len(x)):\n",
        "    if(('University' in x[j]) or ('Institute'in x[j]) or ('Institution'in x[j]) ):\n",
        "      affiliationNames.append(x[j])\n",
        "      print(x[j])\n",
        "    else:\n",
        "      affiliationNames.append('')\n",
        "\n",
        "  print('-------------------------------------------------------')"
      ],
      "execution_count": null,
      "outputs": [
        {
          "output_type": "stream",
          "text": [
            "Shanghai Jiaotong University School of Medicine\n",
            "-------------------------------------------------------\n",
            "Shanghai Jiaotong University School of Medicine\n",
            "-------------------------------------------------------\n",
            "Vanderbilt University College of Medicine\n",
            "-------------------------------------------------------\n",
            "University of the Basque Country\n",
            "-------------------------------------------------------\n",
            "Zhengzhou University School of Medicine\n",
            "Shanghai Jiaotong University School of Medicine\n",
            "-------------------------------------------------------\n",
            "Zhejiang University School of Medicine\n",
            "-------------------------------------------------------\n",
            "Zhengzhou University School of Medicine\n",
            "-------------------------------------------------------\n",
            "Shanghai Jiaotong University School of Medicine\n",
            "-------------------------------------------------------\n",
            "Shanghai Jiaotong University School of Medicine\n",
            "-------------------------------------------------------\n",
            "Shanghai Institute of Endocrinology\n",
            "-------------------------------------------------------\n",
            "University of Ferrara\n",
            "-------------------------------------------------------\n",
            "1Hacettepe University\n",
            "-------------------------------------------------------\n",
            "Shanghai Jiaotong University School of Medicine\n",
            "-------------------------------------------------------\n",
            "Central South University\n",
            "-------------------------------------------------------\n",
            "Aristotle University of Thessaloniki School of Medicine\n",
            "-------------------------------------------------------\n",
            "-------------------------------------------------------\n",
            "Medical University in Wroclaw\n",
            "-------------------------------------------------------\n",
            "Central South University\n",
            "-------------------------------------------------------\n",
            "Central South University\n",
            "-------------------------------------------------------\n",
            "Shanghai Jiaotong University School of Medicine\n",
            "-------------------------------------------------------\n",
            "Shanghai Jiaotong University School of Medicine\n",
            "-------------------------------------------------------\n",
            "Fudan University\n",
            "-------------------------------------------------------\n",
            "The Sixth Affiliated Hospital of Wenzhou Medical University\n",
            "-------------------------------------------------------\n",
            "The Sixth Affiliated Hospital of Wenzhou Medical University\n",
            "-------------------------------------------------------\n",
            "Southern Medical University\n",
            "-------------------------------------------------------\n",
            "The University of Texas MD Anderson Cancer Center\n",
            "-------------------------------------------------------\n",
            "Southern Medical University\n",
            "-------------------------------------------------------\n",
            "Southern Medical University\n",
            "-------------------------------------------------------\n",
            "Shanghai Jiao Tong University\n",
            "-------------------------------------------------------\n",
            "Hacettepe University School of Medicine\n",
            "-------------------------------------------------------\n",
            "Research Institute for Frontier Medicine\n",
            "Sapporo Medical University School of Medicine\n",
            "-------------------------------------------------------\n",
            "Research Institute for Frontier Medicine\n",
            "Sapporo Medical University School of Medicine\n",
            "Sapporo Medical University School of Medicine\n",
            "-------------------------------------------------------\n",
            "Research Institute for Frontier Medicine\n",
            "Sapporo Medical University School of Medicine\n",
            "Sapporo Medical University School of Medicine\n",
            "-------------------------------------------------------\n",
            "Sapporo Medical University School of Medicine\n",
            "-------------------------------------------------------\n",
            "Institute of Medical Science\n",
            "The University of Tokyo\n",
            "-------------------------------------------------------\n",
            "Sapporo Medical University School of Medicine\n",
            "-------------------------------------------------------\n",
            "Sapporo Medical University School of Medicine\n",
            "-------------------------------------------------------\n",
            "Research Institute for Frontier Medicine\n",
            "Sapporo Medical University School of Medicine\n",
            "-------------------------------------------------------\n",
            "University of the Basque Country (UPV/EHU)\n",
            "-------------------------------------------------------\n",
            "University of the Basque Country (UPV/EHU)\n",
            "-------------------------------------------------------\n",
            "BioCruces Research Institute\n",
            "-------------------------------------------------------\n",
            "Biodonostia Research Institute\n",
            "-------------------------------------------------------\n",
            "-------------------------------------------------------\n",
            "University of Oxford\n",
            "-------------------------------------------------------\n",
            "Basurto University Hospital\n",
            "-------------------------------------------------------\n",
            "Virgen de la Macarena University Hospital\n",
            "-------------------------------------------------------\n",
            "Basurto University Hospital\n",
            "-------------------------------------------------------\n",
            "Cruces University Hospital\n",
            "University of the Basque Country (UPV/EHU)\n",
            "-------------------------------------------------------\n",
            "-------------------------------------------------------\n",
            "-------------------------------------------------------\n",
            "-------------------------------------------------------\n",
            "-------------------------------------------------------\n",
            "-------------------------------------------------------\n",
            "National Defense Medical College Research Institute\n",
            "-------------------------------------------------------\n",
            "Tokyo Medical University\n",
            "-------------------------------------------------------\n",
            "The University of Melbourne\n",
            "-------------------------------------------------------\n",
            "The University of Melbourne\n",
            "-------------------------------------------------------\n",
            "University of Florida Health Science Center\n",
            "-------------------------------------------------------\n",
            "University of Florida Health Science Center\n",
            "-------------------------------------------------------\n",
            "Sun Yat-Sen University\n",
            "-------------------------------------------------------\n",
            "Sun Yat-Sen University\n",
            "-------------------------------------------------------\n",
            "Sun Yat-Sen University\n",
            "-------------------------------------------------------\n",
            "Zhengzhou University\n",
            "-------------------------------------------------------\n",
            "Sun Yat-Sen University\n",
            "-------------------------------------------------------\n",
            "Sun Yat-Sen University\n",
            "-------------------------------------------------------\n"
          ],
          "name": "stdout"
        }
      ]
    },
    {
      "cell_type": "markdown",
      "metadata": {
        "id": "2u4fUi8g8WD9"
      },
      "source": [
        "# Keyword Extraction for Bin Chen "
      ]
    },
    {
      "cell_type": "code",
      "metadata": {
        "id": "ep4iFg5t8eyx",
        "outputId": "cf26bf41-05b8-49e6-c2ba-9375d64145eb",
        "colab": {
          "base_uri": "https://localhost:8080/",
          "height": 71
        }
      },
      "source": [
        "import pandas as pd\n",
        "file = pd.read_csv('/content/ACMeshTermsConcat.csv', header=None)\n",
        "print(file.loc[0, 0])\n",
        "keywordList = file.loc[0, 0]\n",
        "print(keywordList.split(','))\n"
      ],
      "execution_count": null,
      "outputs": [
        {
          "output_type": "stream",
          "text": [
            "pancreatic ductal adenocarcinoma,tumor,cancer,PDAC,pancreatic cancer,angiotensin-converting-enzyme-2,angiotensin-II,Ang-II,renin,angiotensin,RAS,angiotensin-converting-enzyme,ACE,type-1 receptor,AT1R,ACE2,ACE2 protein,human,tumor,non-small cell lung cancer,lung cancer,NSCLC,amino acid,angiotensin-converting-enzyme-2,angiotensin-II,Ang-II,renin,angiotensin,RAS,ACE2,ACE,vascular endothelial growth factor-A,VEGFa,AT1-R,gastric cancer,intestinal metaplasia,IM,spasmolytic polypeptide-expressing metaplasia,SPEM,gastric metaplasias,stage-I or node-negative disease,CDH17,ACE2,LGALS4,AKR1B10,OLFM4,LYZ,DPCR1,MUC13,KRT20,MUC5AC,REG4,patients,patient,human,renal tumors,renal injury,non-neoplastic kidney diseases,renal cell carcinomas,renal oncocytoma,RO,neoplasms,CCRCC,tumor,renal neoplastic diseases,angiotensin-converting-enzyme,ACE,ACE2,renin,angiotensin,ACE2 mRNA,iRAS,pancreatic cancer,hypoxia,tumor,cancer,gemcitabine,angiotensin-converting-enzyme-2,ACE2,renin,angiotensin,ACE,ACE2 protein,tumor,RAS,non-small cell lung cancer,NSCLC,lung cancer,ACE2,angiotensin-II,Ang-II,renin,angiotensin,angiotensin-converting-enzyme-2,matrix metalloproteinases,MMPs,MMP-2,MMP-9,VEGFa,ACE,angiotensin-II type-1 receptor,AT1R,human,colon adenocarcinoma,lung adenocarcinoma,non-neoplastic colon mucosa,tumor,colon cancer,non,tumor,heptapeptide,ACE2,Mas receptor,renin,angiotensin,angiotensin-converting-enzyme-2,Ang,MasR,Ang-(1-7),RAS,Ang-II,ACE gene,human,patients,myeloid versus lymphoid hematological neoplastic disorders,myeloid and lymphoid hematological neoplastic disorders,myeloid,AML,CML,NHL,hematological disorders,non-ALL lymphoid malignancies,ALL,leukemia,lymphomas,renin,angiotensin,RAS elements,ACE1,ACE2,ANGTS,RENIN mRNA,patient,non-small cell lung cancer,tumor,lung cancer,A549 lung cancer,cancer,angiotensin-converting-enzyme-2,ACE2,renin,angiotensin,RAS,angiotensin-II,Ang-II,Ang-(1-7),E-cadherin,vimentin,TGF-b1,a-smooth muscle actin,aSMA,squamous cell/adenosquamous carcinoma,adenocarcinoma of gallbladder,SC,ASC of the gallbladder,gallbladder cancer,adenocarcinomas,tumor,SC,ASC,AC,ACE2,FZD1,FZD1(-),ACE2(+),CA19-9,patients,primary laryngeal cancer,laryngeal carcinoma,operable laryngeal cancer,tumor,laryngeal cancer,DFS,formalin,ACE2,FLOT1,PRKD1,patient,patient,polycystic ovary syndrome,PCOS,endometria,PCOS endometrium,hematoxylin,eosin,ACE2,Ang-(1-7),Mas,renin,angiotensin,ACE,Ang-II,AT1,AT2,Ang-II,Mas mRNA,AT1R,AT2R,RAS,AT1 mRNA,AT2 mRNA,ACE2 mRNA,patient,malignant skin lesions,Nonmelanoma skin cancers,NMSC,basal cell carcinoma,BCC,squamous cell carcinoma,SCC,cancers,actinic keratosis,ACE,ACE2,renin,angiotensin,RAS,angiotensin-converting-enzyme-2,angiotensin-converting-enzyme-2,Ki-67 antigen,skin RAS,pulmonary resection,non-small cell lung cancer,cancer,NSCLC,coronary heart disease,hypertension,diabetes mellitus,chronic obstructive pulmonary disease,tumor,pneumonia,pleural effusion,atrial fibrillation,angiotensin-converting-enzyme-2,ACE2,serum ACE2,patient,Hypoxia,Lewis lung carcinoma,cancer,malignancy,tumor,solid tumor,hypoxic tumor,cobalt chloride,Captopril,losartan,renin,angiotensin,RAS,angiotensin-II,angiotensin-converting-enzyme-2,ACE,angiotensin-II type-1 receptor,AT1R,ACE2,angiotensin-II type-2 receptor,vascular endothelial growth factor-A,mouse,gallbladder cancer,GBC,tumour,ARB,angiotensin-converting-enzyme-2,ACE2,angiotensin receptor,angiotensin-II,A2,ERK,mTOR,Human,mouse,patient,hepatocellular carcinoma,HCC,cancer,cancer,fibrosis,cirrhosis,hepatic fibrosis,renin,angiotensin,RAS,angiotensin-converting-enzyme-2,ACE2,CD34,angiotensin-II,Ang-II,Ang,vascular endothelial growth factor,VEGF,ACE2 mRNA,CD34 mRNA,Ang-(1-7),patients,breast cancer,tumor,cancer,RAS,breast tumor,metastatic breast cancer,calcium,ACE2,Ang-(1-7),Mas,renin,angiotensin,angiotensin-converting-enzyme-2,angiotensin-(1-7),ACE,ACE2 protein,PAK1,NF-kB,Snail1,E-cadherin,Ang,human,tumor,NSCLC,RAS,lung cancer,platinum,cisplatin,ACE2,angiotensin-II,Ang-II,renin,angiotensin,angiotensin-converting-enzyme-2,vascular endothelial growth factor,VEGF,angiogen,angiotensin-II type-1 receptor,AT1R,ACE,human,leukemia,malignancies,BM,B-cell leukemia,fibrosis,renin,angiotensin,RAS,RAS molecules,ACE,ACE2,AGT,AGTR1,AGTR2,AKR1C4,AKR1D1,ANPEP,ATP6AP2,CMA1,CPA3,CTSA,CTSD,CTSG,CYP11A1,CYP11B1,CYP11B2,CYP17A1,CYP21A2,DPP3,EGFR,ENPEP,GPER,HSD11B1,HSD11B2,IGF2R,KLK1,LNPEP,MAS1,MME,NR3C1,NR3C2,PREP,REN,RNPEP,THOP1,BM RAS peptides,angiotensin-II,Mas receptor,CD34+,RBP-J,mice,EGFR-mutant lung adenocarcinoma,lung adenocarcinomas,cancer,lung adenocarcinoma,angiotensin-converting-enzyme-2,EGFR-mutant,EGFR,ACE2,anti-ACE2 mouse monoclonal antibody,H8R64,mouse,clear cell renal cell carcinoma,kidney carcinogenesis,tumor,renal neoplasms,CCRCC,papillary renal cell carcinoma,PRCC,renal tumor,renal tumor,angiotensin-regulating enzymes,renin,angiotensin,iRAS,Neutral endopeptidase,NEP,CD10,angiotensin-converting-enzyme-2,ACE2,aminopeptidase-A,APA,angiotensin-converting-enzyme,ACE,patients,Malignant Epithelial Neoplasia,Oral Squamous Cell Carcinoma,vascular disease,obesity,diabetes,cancer,Carcinoma,OSCC,angiotensin-converting-enzyme,ACE,ACE2,Renin,Angiotensin,angiotensin-converting-enzyme,pneumonia,esophagectomy,pulmonary complications,postoperative pneumonia,thoracoscopic esophagectomy,esophageal cancer,angiotensin-converting-enzyme-2,ACE2,serum ACE2,C-reactive protein,POD3,POD5,POD7,patient,tumor,muscle wasting,cancer,Cancer cachexia,Cachexia,attenuated atrophy,muscle wasting conditions,AVE 0991,Mas receptor,Renin,angiotensin,ACE2,angiotensin,mitochondrial assembly receptor,MasR,angiotensin-(1-7),miR-23a,patients,mice,breast cancer,carcinoma,HCC,non-small cell lung cancer,NSCLC,ACE2,VEGFa,VEGFR2,ERK,angiotensin-converting-enzyme-2,renin,angiotensin,RAS,vascular endothelial growth factor-A,vascular endothelial growth factor receptor-2,mitogen-activated protein kinase1/2,MEK1/2,protein kinase1/2,ERK1/2,patient,human\n",
            "['pancreatic ductal adenocarcinoma', 'tumor', 'cancer', 'PDAC', 'pancreatic cancer', 'angiotensin-converting-enzyme-2', 'angiotensin-II', 'Ang-II', 'renin', 'angiotensin', 'RAS', 'angiotensin-converting-enzyme', 'ACE', 'type-1 receptor', 'AT1R', 'ACE2', 'ACE2 protein', 'human', 'tumor', 'non-small cell lung cancer', 'lung cancer', 'NSCLC', 'amino acid', 'angiotensin-converting-enzyme-2', 'angiotensin-II', 'Ang-II', 'renin', 'angiotensin', 'RAS', 'ACE2', 'ACE', 'vascular endothelial growth factor-A', 'VEGFa', 'AT1-R', 'gastric cancer', 'intestinal metaplasia', 'IM', 'spasmolytic polypeptide-expressing metaplasia', 'SPEM', 'gastric metaplasias', 'stage-I or node-negative disease', 'CDH17', 'ACE2', 'LGALS4', 'AKR1B10', 'OLFM4', 'LYZ', 'DPCR1', 'MUC13', 'KRT20', 'MUC5AC', 'REG4', 'patients', 'patient', 'human', 'renal tumors', 'renal injury', 'non-neoplastic kidney diseases', 'renal cell carcinomas', 'renal oncocytoma', 'RO', 'neoplasms', 'CCRCC', 'tumor', 'renal neoplastic diseases', 'angiotensin-converting-enzyme', 'ACE', 'ACE2', 'renin', 'angiotensin', 'ACE2 mRNA', 'iRAS', 'pancreatic cancer', 'hypoxia', 'tumor', 'cancer', 'gemcitabine', 'angiotensin-converting-enzyme-2', 'ACE2', 'renin', 'angiotensin', 'ACE', 'ACE2 protein', 'tumor', 'RAS', 'non-small cell lung cancer', 'NSCLC', 'lung cancer', 'ACE2', 'angiotensin-II', 'Ang-II', 'renin', 'angiotensin', 'angiotensin-converting-enzyme-2', 'matrix metalloproteinases', 'MMPs', 'MMP-2', 'MMP-9', 'VEGFa', 'ACE', 'angiotensin-II type-1 receptor', 'AT1R', 'human', 'colon adenocarcinoma', 'lung adenocarcinoma', 'non-neoplastic colon mucosa', 'tumor', 'colon cancer', 'non', 'tumor', 'heptapeptide', 'ACE2', 'Mas receptor', 'renin', 'angiotensin', 'angiotensin-converting-enzyme-2', 'Ang', 'MasR', 'Ang-(1-7)', 'RAS', 'Ang-II', 'ACE gene', 'human', 'patients', 'myeloid versus lymphoid hematological neoplastic disorders', 'myeloid and lymphoid hematological neoplastic disorders', 'myeloid', 'AML', 'CML', 'NHL', 'hematological disorders', 'non-ALL lymphoid malignancies', 'ALL', 'leukemia', 'lymphomas', 'renin', 'angiotensin', 'RAS elements', 'ACE1', 'ACE2', 'ANGTS', 'RENIN mRNA', 'patient', 'non-small cell lung cancer', 'tumor', 'lung cancer', 'A549 lung cancer', 'cancer', 'angiotensin-converting-enzyme-2', 'ACE2', 'renin', 'angiotensin', 'RAS', 'angiotensin-II', 'Ang-II', 'Ang-(1-7)', 'E-cadherin', 'vimentin', 'TGF-b1', 'a-smooth muscle actin', 'aSMA', 'squamous cell/adenosquamous carcinoma', 'adenocarcinoma of gallbladder', 'SC', 'ASC of the gallbladder', 'gallbladder cancer', 'adenocarcinomas', 'tumor', 'SC', 'ASC', 'AC', 'ACE2', 'FZD1', 'FZD1(-)', 'ACE2(+)', 'CA19-9', 'patients', 'primary laryngeal cancer', 'laryngeal carcinoma', 'operable laryngeal cancer', 'tumor', 'laryngeal cancer', 'DFS', 'formalin', 'ACE2', 'FLOT1', 'PRKD1', 'patient', 'patient', 'polycystic ovary syndrome', 'PCOS', 'endometria', 'PCOS endometrium', 'hematoxylin', 'eosin', 'ACE2', 'Ang-(1-7)', 'Mas', 'renin', 'angiotensin', 'ACE', 'Ang-II', 'AT1', 'AT2', 'Ang-II', 'Mas mRNA', 'AT1R', 'AT2R', 'RAS', 'AT1 mRNA', 'AT2 mRNA', 'ACE2 mRNA', 'patient', 'malignant skin lesions', 'Nonmelanoma skin cancers', 'NMSC', 'basal cell carcinoma', 'BCC', 'squamous cell carcinoma', 'SCC', 'cancers', 'actinic keratosis', 'ACE', 'ACE2', 'renin', 'angiotensin', 'RAS', 'angiotensin-converting-enzyme-2', 'angiotensin-converting-enzyme-2', 'Ki-67 antigen', 'skin RAS', 'pulmonary resection', 'non-small cell lung cancer', 'cancer', 'NSCLC', 'coronary heart disease', 'hypertension', 'diabetes mellitus', 'chronic obstructive pulmonary disease', 'tumor', 'pneumonia', 'pleural effusion', 'atrial fibrillation', 'angiotensin-converting-enzyme-2', 'ACE2', 'serum ACE2', 'patient', 'Hypoxia', 'Lewis lung carcinoma', 'cancer', 'malignancy', 'tumor', 'solid tumor', 'hypoxic tumor', 'cobalt chloride', 'Captopril', 'losartan', 'renin', 'angiotensin', 'RAS', 'angiotensin-II', 'angiotensin-converting-enzyme-2', 'ACE', 'angiotensin-II type-1 receptor', 'AT1R', 'ACE2', 'angiotensin-II type-2 receptor', 'vascular endothelial growth factor-A', 'mouse', 'gallbladder cancer', 'GBC', 'tumour', 'ARB', 'angiotensin-converting-enzyme-2', 'ACE2', 'angiotensin receptor', 'angiotensin-II', 'A2', 'ERK', 'mTOR', 'Human', 'mouse', 'patient', 'hepatocellular carcinoma', 'HCC', 'cancer', 'cancer', 'fibrosis', 'cirrhosis', 'hepatic fibrosis', 'renin', 'angiotensin', 'RAS', 'angiotensin-converting-enzyme-2', 'ACE2', 'CD34', 'angiotensin-II', 'Ang-II', 'Ang', 'vascular endothelial growth factor', 'VEGF', 'ACE2 mRNA', 'CD34 mRNA', 'Ang-(1-7)', 'patients', 'breast cancer', 'tumor', 'cancer', 'RAS', 'breast tumor', 'metastatic breast cancer', 'calcium', 'ACE2', 'Ang-(1-7)', 'Mas', 'renin', 'angiotensin', 'angiotensin-converting-enzyme-2', 'angiotensin-(1-7)', 'ACE', 'ACE2 protein', 'PAK1', 'NF-kB', 'Snail1', 'E-cadherin', 'Ang', 'human', 'tumor', 'NSCLC', 'RAS', 'lung cancer', 'platinum', 'cisplatin', 'ACE2', 'angiotensin-II', 'Ang-II', 'renin', 'angiotensin', 'angiotensin-converting-enzyme-2', 'vascular endothelial growth factor', 'VEGF', 'angiogen', 'angiotensin-II type-1 receptor', 'AT1R', 'ACE', 'human', 'leukemia', 'malignancies', 'BM', 'B-cell leukemia', 'fibrosis', 'renin', 'angiotensin', 'RAS', 'RAS molecules', 'ACE', 'ACE2', 'AGT', 'AGTR1', 'AGTR2', 'AKR1C4', 'AKR1D1', 'ANPEP', 'ATP6AP2', 'CMA1', 'CPA3', 'CTSA', 'CTSD', 'CTSG', 'CYP11A1', 'CYP11B1', 'CYP11B2', 'CYP17A1', 'CYP21A2', 'DPP3', 'EGFR', 'ENPEP', 'GPER', 'HSD11B1', 'HSD11B2', 'IGF2R', 'KLK1', 'LNPEP', 'MAS1', 'MME', 'NR3C1', 'NR3C2', 'PREP', 'REN', 'RNPEP', 'THOP1', 'BM RAS peptides', 'angiotensin-II', 'Mas receptor', 'CD34+', 'RBP-J', 'mice', 'EGFR-mutant lung adenocarcinoma', 'lung adenocarcinomas', 'cancer', 'lung adenocarcinoma', 'angiotensin-converting-enzyme-2', 'EGFR-mutant', 'EGFR', 'ACE2', 'anti-ACE2 mouse monoclonal antibody', 'H8R64', 'mouse', 'clear cell renal cell carcinoma', 'kidney carcinogenesis', 'tumor', 'renal neoplasms', 'CCRCC', 'papillary renal cell carcinoma', 'PRCC', 'renal tumor', 'renal tumor', 'angiotensin-regulating enzymes', 'renin', 'angiotensin', 'iRAS', 'Neutral endopeptidase', 'NEP', 'CD10', 'angiotensin-converting-enzyme-2', 'ACE2', 'aminopeptidase-A', 'APA', 'angiotensin-converting-enzyme', 'ACE', 'patients', 'Malignant Epithelial Neoplasia', 'Oral Squamous Cell Carcinoma', 'vascular disease', 'obesity', 'diabetes', 'cancer', 'Carcinoma', 'OSCC', 'angiotensin-converting-enzyme', 'ACE', 'ACE2', 'Renin', 'Angiotensin', 'angiotensin-converting-enzyme', 'pneumonia', 'esophagectomy', 'pulmonary complications', 'postoperative pneumonia', 'thoracoscopic esophagectomy', 'esophageal cancer', 'angiotensin-converting-enzyme-2', 'ACE2', 'serum ACE2', 'C-reactive protein', 'POD3', 'POD5', 'POD7', 'patient', 'tumor', 'muscle wasting', 'cancer', 'Cancer cachexia', 'Cachexia', 'attenuated atrophy', 'muscle wasting conditions', 'AVE 0991', 'Mas receptor', 'Renin', 'angiotensin', 'ACE2', 'angiotensin', 'mitochondrial assembly receptor', 'MasR', 'angiotensin-(1-7)', 'miR-23a', 'patients', 'mice', 'breast cancer', 'carcinoma', 'HCC', 'non-small cell lung cancer', 'NSCLC', 'ACE2', 'VEGFa', 'VEGFR2', 'ERK', 'angiotensin-converting-enzyme-2', 'renin', 'angiotensin', 'RAS', 'vascular endothelial growth factor-A', 'vascular endothelial growth factor receptor-2', 'mitogen-activated protein kinase1/2', 'MEK1/2', 'protein kinase1/2', 'ERK1/2', 'patient', 'human']\n"
          ],
          "name": "stdout"
        }
      ]
    },
    {
      "cell_type": "code",
      "metadata": {
        "id": "VBZh4ZoBd1u0",
        "outputId": "5f8699c2-c34b-44a0-84bb-659865278161",
        "colab": {
          "base_uri": "https://localhost:8080/",
          "height": 88
        }
      },
      "source": [
        "print(keywordList)\n",
        "print(len(keywordList))\n",
        "keywordArr=[]\n",
        "keywordArr = keywordList.split(',')\n",
        "keywordArrShort=[]\n",
        "for i in range (0, len(keywordArr)):\n",
        "  keywordArrShort.append(keywordArr[i].split(' '))\n",
        "keywordArrFinal=[]\n",
        "for m in range(0, len(keywordArrShort)):\n",
        "  for n in range(0, len(keywordArrShort[m])):\n",
        "    keywordArrFinal.append(keywordArrShort[m][n])\n",
        "print(keywordArrFinal)\n",
        "\n"
      ],
      "execution_count": null,
      "outputs": [
        {
          "output_type": "stream",
          "text": [
            "pancreatic ductal adenocarcinoma,tumor,cancer,PDAC,pancreatic cancer,angiotensin-converting-enzyme-2,angiotensin-II,Ang-II,renin,angiotensin,RAS,angiotensin-converting-enzyme,ACE,type-1 receptor,AT1R,ACE2,ACE2 protein,human,tumor,non-small cell lung cancer,lung cancer,NSCLC,amino acid,angiotensin-converting-enzyme-2,angiotensin-II,Ang-II,renin,angiotensin,RAS,ACE2,ACE,vascular endothelial growth factor-A,VEGFa,AT1-R,gastric cancer,intestinal metaplasia,IM,spasmolytic polypeptide-expressing metaplasia,SPEM,gastric metaplasias,stage-I or node-negative disease,CDH17,ACE2,LGALS4,AKR1B10,OLFM4,LYZ,DPCR1,MUC13,KRT20,MUC5AC,REG4,patients,patient,human,renal tumors,renal injury,non-neoplastic kidney diseases,renal cell carcinomas,renal oncocytoma,RO,neoplasms,CCRCC,tumor,renal neoplastic diseases,angiotensin-converting-enzyme,ACE,ACE2,renin,angiotensin,ACE2 mRNA,iRAS,pancreatic cancer,hypoxia,tumor,cancer,gemcitabine,angiotensin-converting-enzyme-2,ACE2,renin,angiotensin,ACE,ACE2 protein,tumor,RAS,non-small cell lung cancer,NSCLC,lung cancer,ACE2,angiotensin-II,Ang-II,renin,angiotensin,angiotensin-converting-enzyme-2,matrix metalloproteinases,MMPs,MMP-2,MMP-9,VEGFa,ACE,angiotensin-II type-1 receptor,AT1R,human,colon adenocarcinoma,lung adenocarcinoma,non-neoplastic colon mucosa,tumor,colon cancer,non,tumor,heptapeptide,ACE2,Mas receptor,renin,angiotensin,angiotensin-converting-enzyme-2,Ang,MasR,Ang-(1-7),RAS,Ang-II,ACE gene,human,patients,myeloid versus lymphoid hematological neoplastic disorders,myeloid and lymphoid hematological neoplastic disorders,myeloid,AML,CML,NHL,hematological disorders,non-ALL lymphoid malignancies,ALL,leukemia,lymphomas,renin,angiotensin,RAS elements,ACE1,ACE2,ANGTS,RENIN mRNA,patient,non-small cell lung cancer,tumor,lung cancer,A549 lung cancer,cancer,angiotensin-converting-enzyme-2,ACE2,renin,angiotensin,RAS,angiotensin-II,Ang-II,Ang-(1-7),E-cadherin,vimentin,TGF-b1,a-smooth muscle actin,aSMA,squamous cell/adenosquamous carcinoma,adenocarcinoma of gallbladder,SC,ASC of the gallbladder,gallbladder cancer,adenocarcinomas,tumor,SC,ASC,AC,ACE2,FZD1,FZD1(-),ACE2(+),CA19-9,patients,primary laryngeal cancer,laryngeal carcinoma,operable laryngeal cancer,tumor,laryngeal cancer,DFS,formalin,ACE2,FLOT1,PRKD1,patient,patient,polycystic ovary syndrome,PCOS,endometria,PCOS endometrium,hematoxylin,eosin,ACE2,Ang-(1-7),Mas,renin,angiotensin,ACE,Ang-II,AT1,AT2,Ang-II,Mas mRNA,AT1R,AT2R,RAS,AT1 mRNA,AT2 mRNA,ACE2 mRNA,patient,malignant skin lesions,Nonmelanoma skin cancers,NMSC,basal cell carcinoma,BCC,squamous cell carcinoma,SCC,cancers,actinic keratosis,ACE,ACE2,renin,angiotensin,RAS,angiotensin-converting-enzyme-2,angiotensin-converting-enzyme-2,Ki-67 antigen,skin RAS,pulmonary resection,non-small cell lung cancer,cancer,NSCLC,coronary heart disease,hypertension,diabetes mellitus,chronic obstructive pulmonary disease,tumor,pneumonia,pleural effusion,atrial fibrillation,angiotensin-converting-enzyme-2,ACE2,serum ACE2,patient,Hypoxia,Lewis lung carcinoma,cancer,malignancy,tumor,solid tumor,hypoxic tumor,cobalt chloride,Captopril,losartan,renin,angiotensin,RAS,angiotensin-II,angiotensin-converting-enzyme-2,ACE,angiotensin-II type-1 receptor,AT1R,ACE2,angiotensin-II type-2 receptor,vascular endothelial growth factor-A,mouse,gallbladder cancer,GBC,tumour,ARB,angiotensin-converting-enzyme-2,ACE2,angiotensin receptor,angiotensin-II,A2,ERK,mTOR,Human,mouse,patient,hepatocellular carcinoma,HCC,cancer,cancer,fibrosis,cirrhosis,hepatic fibrosis,renin,angiotensin,RAS,angiotensin-converting-enzyme-2,ACE2,CD34,angiotensin-II,Ang-II,Ang,vascular endothelial growth factor,VEGF,ACE2 mRNA,CD34 mRNA,Ang-(1-7),patients,breast cancer,tumor,cancer,RAS,breast tumor,metastatic breast cancer,calcium,ACE2,Ang-(1-7),Mas,renin,angiotensin,angiotensin-converting-enzyme-2,angiotensin-(1-7),ACE,ACE2 protein,PAK1,NF-kB,Snail1,E-cadherin,Ang,human,tumor,NSCLC,RAS,lung cancer,platinum,cisplatin,ACE2,angiotensin-II,Ang-II,renin,angiotensin,angiotensin-converting-enzyme-2,vascular endothelial growth factor,VEGF,angiogen,angiotensin-II type-1 receptor,AT1R,ACE,human,leukemia,malignancies,BM,B-cell leukemia,fibrosis,renin,angiotensin,RAS,RAS molecules,ACE,ACE2,AGT,AGTR1,AGTR2,AKR1C4,AKR1D1,ANPEP,ATP6AP2,CMA1,CPA3,CTSA,CTSD,CTSG,CYP11A1,CYP11B1,CYP11B2,CYP17A1,CYP21A2,DPP3,EGFR,ENPEP,GPER,HSD11B1,HSD11B2,IGF2R,KLK1,LNPEP,MAS1,MME,NR3C1,NR3C2,PREP,REN,RNPEP,THOP1,BM RAS peptides,angiotensin-II,Mas receptor,CD34+,RBP-J,mice,EGFR-mutant lung adenocarcinoma,lung adenocarcinomas,cancer,lung adenocarcinoma,angiotensin-converting-enzyme-2,EGFR-mutant,EGFR,ACE2,anti-ACE2 mouse monoclonal antibody,H8R64,mouse,clear cell renal cell carcinoma,kidney carcinogenesis,tumor,renal neoplasms,CCRCC,papillary renal cell carcinoma,PRCC,renal tumor,renal tumor,angiotensin-regulating enzymes,renin,angiotensin,iRAS,Neutral endopeptidase,NEP,CD10,angiotensin-converting-enzyme-2,ACE2,aminopeptidase-A,APA,angiotensin-converting-enzyme,ACE,patients,Malignant Epithelial Neoplasia,Oral Squamous Cell Carcinoma,vascular disease,obesity,diabetes,cancer,Carcinoma,OSCC,angiotensin-converting-enzyme,ACE,ACE2,Renin,Angiotensin,angiotensin-converting-enzyme,pneumonia,esophagectomy,pulmonary complications,postoperative pneumonia,thoracoscopic esophagectomy,esophageal cancer,angiotensin-converting-enzyme-2,ACE2,serum ACE2,C-reactive protein,POD3,POD5,POD7,patient,tumor,muscle wasting,cancer,Cancer cachexia,Cachexia,attenuated atrophy,muscle wasting conditions,AVE 0991,Mas receptor,Renin,angiotensin,ACE2,angiotensin,mitochondrial assembly receptor,MasR,angiotensin-(1-7),miR-23a,patients,mice,breast cancer,carcinoma,HCC,non-small cell lung cancer,NSCLC,ACE2,VEGFa,VEGFR2,ERK,angiotensin-converting-enzyme-2,renin,angiotensin,RAS,vascular endothelial growth factor-A,vascular endothelial growth factor receptor-2,mitogen-activated protein kinase1/2,MEK1/2,protein kinase1/2,ERK1/2,patient,human\n",
            "5927\n",
            "['pancreatic', 'ductal', 'adenocarcinoma', 'tumor', 'cancer', 'PDAC', 'pancreatic', 'cancer', 'angiotensin-converting-enzyme-2', 'angiotensin-II', 'Ang-II', 'renin', 'angiotensin', 'RAS', 'angiotensin-converting-enzyme', 'ACE', 'type-1', 'receptor', 'AT1R', 'ACE2', 'ACE2', 'protein', 'human', 'tumor', 'non-small', 'cell', 'lung', 'cancer', 'lung', 'cancer', 'NSCLC', 'amino', 'acid', 'angiotensin-converting-enzyme-2', 'angiotensin-II', 'Ang-II', 'renin', 'angiotensin', 'RAS', 'ACE2', 'ACE', 'vascular', 'endothelial', 'growth', 'factor-A', 'VEGFa', 'AT1-R', 'gastric', 'cancer', 'intestinal', 'metaplasia', 'IM', 'spasmolytic', 'polypeptide-expressing', 'metaplasia', 'SPEM', 'gastric', 'metaplasias', 'stage-I', 'or', 'node-negative', 'disease', 'CDH17', 'ACE2', 'LGALS4', 'AKR1B10', 'OLFM4', 'LYZ', 'DPCR1', 'MUC13', 'KRT20', 'MUC5AC', 'REG4', 'patients', 'patient', 'human', 'renal', 'tumors', 'renal', 'injury', 'non-neoplastic', 'kidney', 'diseases', 'renal', 'cell', 'carcinomas', 'renal', 'oncocytoma', 'RO', 'neoplasms', 'CCRCC', 'tumor', 'renal', 'neoplastic', 'diseases', 'angiotensin-converting-enzyme', 'ACE', 'ACE2', 'renin', 'angiotensin', 'ACE2', 'mRNA', 'iRAS', 'pancreatic', 'cancer', 'hypoxia', 'tumor', 'cancer', 'gemcitabine', 'angiotensin-converting-enzyme-2', 'ACE2', 'renin', 'angiotensin', 'ACE', 'ACE2', 'protein', 'tumor', 'RAS', 'non-small', 'cell', 'lung', 'cancer', 'NSCLC', 'lung', 'cancer', 'ACE2', 'angiotensin-II', 'Ang-II', 'renin', 'angiotensin', 'angiotensin-converting-enzyme-2', 'matrix', 'metalloproteinases', 'MMPs', 'MMP-2', 'MMP-9', 'VEGFa', 'ACE', 'angiotensin-II', 'type-1', 'receptor', 'AT1R', 'human', 'colon', 'adenocarcinoma', 'lung', 'adenocarcinoma', 'non-neoplastic', 'colon', 'mucosa', 'tumor', 'colon', 'cancer', 'non', 'tumor', 'heptapeptide', 'ACE2', 'Mas', 'receptor', 'renin', 'angiotensin', 'angiotensin-converting-enzyme-2', 'Ang', 'MasR', 'Ang-(1-7)', 'RAS', 'Ang-II', 'ACE', 'gene', 'human', 'patients', 'myeloid', 'versus', 'lymphoid', 'hematological', 'neoplastic', 'disorders', 'myeloid', 'and', 'lymphoid', 'hematological', 'neoplastic', 'disorders', 'myeloid', 'AML', 'CML', 'NHL', 'hematological', 'disorders', 'non-ALL', 'lymphoid', 'malignancies', 'ALL', 'leukemia', 'lymphomas', 'renin', 'angiotensin', 'RAS', 'elements', 'ACE1', 'ACE2', 'ANGTS', 'RENIN', 'mRNA', 'patient', 'non-small', 'cell', 'lung', 'cancer', 'tumor', 'lung', 'cancer', 'A549', 'lung', 'cancer', 'cancer', 'angiotensin-converting-enzyme-2', 'ACE2', 'renin', 'angiotensin', 'RAS', 'angiotensin-II', 'Ang-II', 'Ang-(1-7)', 'E-cadherin', 'vimentin', 'TGF-b1', 'a-smooth', 'muscle', 'actin', 'aSMA', 'squamous', 'cell/adenosquamous', 'carcinoma', 'adenocarcinoma', 'of', 'gallbladder', 'SC', 'ASC', 'of', 'the', 'gallbladder', 'gallbladder', 'cancer', 'adenocarcinomas', 'tumor', 'SC', 'ASC', 'AC', 'ACE2', 'FZD1', 'FZD1(-)', 'ACE2(+)', 'CA19-9', 'patients', 'primary', 'laryngeal', 'cancer', 'laryngeal', 'carcinoma', 'operable', 'laryngeal', 'cancer', 'tumor', 'laryngeal', 'cancer', 'DFS', 'formalin', 'ACE2', 'FLOT1', 'PRKD1', 'patient', 'patient', 'polycystic', 'ovary', 'syndrome', 'PCOS', 'endometria', 'PCOS', 'endometrium', 'hematoxylin', 'eosin', 'ACE2', 'Ang-(1-7)', 'Mas', 'renin', 'angiotensin', 'ACE', 'Ang-II', 'AT1', 'AT2', 'Ang-II', 'Mas', 'mRNA', 'AT1R', 'AT2R', 'RAS', 'AT1', 'mRNA', 'AT2', 'mRNA', 'ACE2', 'mRNA', 'patient', 'malignant', 'skin', 'lesions', 'Nonmelanoma', 'skin', 'cancers', 'NMSC', 'basal', 'cell', 'carcinoma', 'BCC', 'squamous', 'cell', 'carcinoma', 'SCC', 'cancers', 'actinic', 'keratosis', 'ACE', 'ACE2', 'renin', 'angiotensin', 'RAS', 'angiotensin-converting-enzyme-2', 'angiotensin-converting-enzyme-2', 'Ki-67', 'antigen', 'skin', 'RAS', 'pulmonary', 'resection', 'non-small', 'cell', 'lung', 'cancer', 'cancer', 'NSCLC', 'coronary', 'heart', 'disease', 'hypertension', 'diabetes', 'mellitus', 'chronic', 'obstructive', 'pulmonary', 'disease', 'tumor', 'pneumonia', 'pleural', 'effusion', 'atrial', 'fibrillation', 'angiotensin-converting-enzyme-2', 'ACE2', 'serum', 'ACE2', 'patient', 'Hypoxia', 'Lewis', 'lung', 'carcinoma', 'cancer', 'malignancy', 'tumor', 'solid', 'tumor', 'hypoxic', 'tumor', 'cobalt', 'chloride', 'Captopril', 'losartan', 'renin', 'angiotensin', 'RAS', 'angiotensin-II', 'angiotensin-converting-enzyme-2', 'ACE', 'angiotensin-II', 'type-1', 'receptor', 'AT1R', 'ACE2', 'angiotensin-II', 'type-2', 'receptor', 'vascular', 'endothelial', 'growth', 'factor-A', 'mouse', 'gallbladder', 'cancer', 'GBC', 'tumour', 'ARB', 'angiotensin-converting-enzyme-2', 'ACE2', 'angiotensin', 'receptor', 'angiotensin-II', 'A2', 'ERK', 'mTOR', 'Human', 'mouse', 'patient', 'hepatocellular', 'carcinoma', 'HCC', 'cancer', 'cancer', 'fibrosis', 'cirrhosis', 'hepatic', 'fibrosis', 'renin', 'angiotensin', 'RAS', 'angiotensin-converting-enzyme-2', 'ACE2', 'CD34', 'angiotensin-II', 'Ang-II', 'Ang', 'vascular', 'endothelial', 'growth', 'factor', 'VEGF', 'ACE2', 'mRNA', 'CD34', 'mRNA', 'Ang-(1-7)', 'patients', 'breast', 'cancer', 'tumor', 'cancer', 'RAS', 'breast', 'tumor', 'metastatic', 'breast', 'cancer', 'calcium', 'ACE2', 'Ang-(1-7)', 'Mas', 'renin', 'angiotensin', 'angiotensin-converting-enzyme-2', 'angiotensin-(1-7)', 'ACE', 'ACE2', 'protein', 'PAK1', 'NF-kB', 'Snail1', 'E-cadherin', 'Ang', 'human', 'tumor', 'NSCLC', 'RAS', 'lung', 'cancer', 'platinum', 'cisplatin', 'ACE2', 'angiotensin-II', 'Ang-II', 'renin', 'angiotensin', 'angiotensin-converting-enzyme-2', 'vascular', 'endothelial', 'growth', 'factor', 'VEGF', 'angiogen', 'angiotensin-II', 'type-1', 'receptor', 'AT1R', 'ACE', 'human', 'leukemia', 'malignancies', 'BM', 'B-cell', 'leukemia', 'fibrosis', 'renin', 'angiotensin', 'RAS', 'RAS', 'molecules', 'ACE', 'ACE2', 'AGT', 'AGTR1', 'AGTR2', 'AKR1C4', 'AKR1D1', 'ANPEP', 'ATP6AP2', 'CMA1', 'CPA3', 'CTSA', 'CTSD', 'CTSG', 'CYP11A1', 'CYP11B1', 'CYP11B2', 'CYP17A1', 'CYP21A2', 'DPP3', 'EGFR', 'ENPEP', 'GPER', 'HSD11B1', 'HSD11B2', 'IGF2R', 'KLK1', 'LNPEP', 'MAS1', 'MME', 'NR3C1', 'NR3C2', 'PREP', 'REN', 'RNPEP', 'THOP1', 'BM', 'RAS', 'peptides', 'angiotensin-II', 'Mas', 'receptor', 'CD34+', 'RBP-J', 'mice', 'EGFR-mutant', 'lung', 'adenocarcinoma', 'lung', 'adenocarcinomas', 'cancer', 'lung', 'adenocarcinoma', 'angiotensin-converting-enzyme-2', 'EGFR-mutant', 'EGFR', 'ACE2', 'anti-ACE2', 'mouse', 'monoclonal', 'antibody', 'H8R64', 'mouse', 'clear', 'cell', 'renal', 'cell', 'carcinoma', 'kidney', 'carcinogenesis', 'tumor', 'renal', 'neoplasms', 'CCRCC', 'papillary', 'renal', 'cell', 'carcinoma', 'PRCC', 'renal', 'tumor', 'renal', 'tumor', 'angiotensin-regulating', 'enzymes', 'renin', 'angiotensin', 'iRAS', 'Neutral', 'endopeptidase', 'NEP', 'CD10', 'angiotensin-converting-enzyme-2', 'ACE2', 'aminopeptidase-A', 'APA', 'angiotensin-converting-enzyme', 'ACE', 'patients', 'Malignant', 'Epithelial', 'Neoplasia', 'Oral', 'Squamous', 'Cell', 'Carcinoma', 'vascular', 'disease', 'obesity', 'diabetes', 'cancer', 'Carcinoma', 'OSCC', 'angiotensin-converting-enzyme', 'ACE', 'ACE2', 'Renin', 'Angiotensin', 'angiotensin-converting-enzyme', 'pneumonia', 'esophagectomy', 'pulmonary', 'complications', 'postoperative', 'pneumonia', 'thoracoscopic', 'esophagectomy', 'esophageal', 'cancer', 'angiotensin-converting-enzyme-2', 'ACE2', 'serum', 'ACE2', 'C-reactive', 'protein', 'POD3', 'POD5', 'POD7', 'patient', 'tumor', 'muscle', 'wasting', 'cancer', 'Cancer', 'cachexia', 'Cachexia', 'attenuated', 'atrophy', 'muscle', 'wasting', 'conditions', 'AVE', '0991', 'Mas', 'receptor', 'Renin', 'angiotensin', 'ACE2', 'angiotensin', 'mitochondrial', 'assembly', 'receptor', 'MasR', 'angiotensin-(1-7)', 'miR-23a', 'patients', 'mice', 'breast', 'cancer', 'carcinoma', 'HCC', 'non-small', 'cell', 'lung', 'cancer', 'NSCLC', 'ACE2', 'VEGFa', 'VEGFR2', 'ERK', 'angiotensin-converting-enzyme-2', 'renin', 'angiotensin', 'RAS', 'vascular', 'endothelial', 'growth', 'factor-A', 'vascular', 'endothelial', 'growth', 'factor', 'receptor-2', 'mitogen-activated', 'protein', 'kinase1/2', 'MEK1/2', 'protein', 'kinase1/2', 'ERK1/2', 'patient', 'human']\n"
          ],
          "name": "stdout"
        }
      ]
    },
    {
      "cell_type": "code",
      "metadata": {
        "id": "AGfvtEhKejhK"
      },
      "source": [
        "pd.DataFrame(keywordArrFinal).to_csv(\"/content/ACKeywordsShortFinal.csv\")"
      ],
      "execution_count": null,
      "outputs": []
    },
    {
      "cell_type": "code",
      "metadata": {
        "id": "_nFLuMno-NCD",
        "outputId": "3d7d4e6c-17fb-4d53-9b2b-54612bf017da",
        "colab": {
          "base_uri": "https://localhost:8080/",
          "height": 139
        }
      },
      "source": [
        "keywordArr=[]\n",
        "keywordArr = keywordList.split(',')\n",
        "\n",
        "# Testing the splitting method on one keyword\n",
        "# text = keywordArr[0]\n",
        "# print('Text Before= ', text)\n",
        "# head, sep, tail = text.partition(':')\n",
        "# print('Text After= ', head)\n",
        "\n",
        "# Apply splitting method to all keywords in the array\n",
        "# keywordsArrCleaned = []\n",
        "# for i in range(0, len(keywordArr)):\n",
        "#   text = keywordArr[i]\n",
        "#   head, sep, tail = text.partition(':')\n",
        "#   keywordsArrCleaned.append(head.lstrip())\n",
        "# print('Cleaned Keywords are \\n', keywordsArrCleaned)\n",
        "# print('----------------------------------------------')\n",
        "# print('# of cleaned keywords= ', len(keywordsArrCleaned))"
      ],
      "execution_count": null,
      "outputs": [
        {
          "output_type": "stream",
          "text": [
            "Text Before=  renal injury: 4.29\n",
            "Text After=  renal injury\n",
            "Cleaned Keywords are \n",
            " ['renal injury', 'mrna expression', 'qrt-pcr assays', 'spectrophotometric assays', 'metabolic imbalance', 'renal cell carcinomas', 'distal nephron', 'renal oncocytoma', 'potential prognostic/diagnostic markers', 'enzyme activity', 'non-neoplastic kidney diseases', 'renal tubules', 'ace2 activity/protein expression', 'intrarenal renin-angiotensin system', 'mrna levels', 'findings suggest', 'renal neoplastic diseases', 'renal function', 'ace2 mrna levels', 'highly expressed', 'prognosis markers', 'high tnm stage', 'fzd1 expression', 'ace2 expression negatively correlated', 'large tumor size', 'tumor size', 'squamous cell/adenosquamous carcinoma', 'gallbladder cancer subtype', 'negative ace2 expression', 'independent poor-prognostic factors', 'average survival time', 'univariate kaplan-meier analysis showed', 'gallbladder cancer', 'rare occurrence', 'surgical curability', 'fzd1 expression positively', 'multivariate cox regression analysis showed', 'lymph node metastasis', 'tnm stage', 'examined ace2', 'validated gene models', 'successfully stratify patients', 'multigene predictor', 'recurrence', 'laryngeal cancer', 'identification', 'primary laryngeal cancer', 'worthy', 'routine clinical applications', 'established', 'risk', 'validation', 'based', 'laryngeal cancer prognostic marker', 'prospectively validate prkd1 expression', 'validated gene models', 'successfully stratify patients', 'multigene predictor', 'recurrence', 'laryngeal cancer', 'identification', 'primary laryngeal cancer', 'worthy', 'routine clinical applications', 'established', 'risk', 'validation', 'based', 'laryngeal cancer prognostic marker', 'prospectively validate prkd1 expression', 'validated gene models', 'successfully stratify patients', 'multigene predictor', 'recurrence', 'laryngeal cancer', 'identification', 'primary laryngeal cancer', 'worthy', 'routine clinical applications', 'established', 'risk', 'validation', 'based', 'laryngeal cancer prognostic marker', 'prospectively validate prkd1 expression', 'validated gene models', 'successfully stratify patients', 'multigene predictor', 'recurrence', 'laryngeal cancer', 'identification', 'primary laryngeal cancer', 'worthy', 'routine clinical applications', 'established', 'risk', 'validation', 'based', 'laryngeal cancer prognostic marker', 'prospectively validate prkd1 expression', 'pcos', '-mas axis', 'significance', 'patients', 'at2 mrna', 'local existence', 'at1 mrna', 'ras', 'influence endometrial development', 'increased expressions', '1-7', 'mas mrna', 'polycystic ovary syndrome]', 'ace2 mrna', 'endometrium', 'play', 'role', '[expression', 'pathological process', 'ace2-ang-', 'pcos', '-mas axis', 'significance', 'patients', 'at2 mrna', 'local existence', 'at1 mrna', 'ras', 'influence endometrial development', 'increased expressions', '1-7', 'mas mrna', 'polycystic ovary syndrome]', 'ace2 mrna', 'endometrium', 'play', 'role', '[expression', 'pathological process', 'ace2-ang-', 'pcos', '-mas axis', 'significance', 'patients', 'at2 mrna', 'local existence', 'at1 mrna', 'ras', 'influence endometrial development', 'increased expressions', '1-7', 'mas mrna', 'polycystic ovary syndrome]', 'ace2 mrna', 'endometrium', 'play', 'role', '[expression', 'pathological process', 'ace2-ang-', 'pcos', '-mas axis', 'significance', 'patients', 'at2 mrna', 'local existence', 'at1 mrna', 'ras', 'influence endometrial development', 'increased expressions', '1-7', 'mas mrna', 'polycystic ovary syndrome]', 'ace2 mrna', 'endometrium', 'play', 'role', '[expression', 'pathological process', 'ace2-ang-', 'common cancers', 'mediate processes', 'including basal cell carcinoma', 'immunohistochemical expression', 'squamous cell carcinoma', 'basal epidermal layers', 'normal skin', 'ace immunoreactivity', 'cardiovascular homeostasis', 'sebaceous gland cells', 'ace2 immunoreactivity', 'significantly higher', 'significantly higher ace immunoreactivity occurred', 'nonmelanoma skin cancers', 'cytoplasmic-nuclear ace immunoreactivity', 'actinic keratosis', 'archival samples', 'observations suggest', 'malignant skin lesions', 'angiotensin-converting enzyme 2', 'association', 'postoperative morbidities', 'serum ace2 level', 'prognostic factor', 'non-small cell lung cancer patients', 'independent risk factor', 'serum angiotensin-converting enzyme 2 level', 'postoperative morbidity', 'major pulmonary resection', 'mortality', 'day post surgery', 'nsclc patients', 'association', 'postoperative morbidities', 'serum ace2 level', 'prognostic factor', 'non-small cell lung cancer patients', 'independent risk factor', 'serum angiotensin-converting enzyme 2 level', 'postoperative morbidity', 'major pulmonary resection', 'mortality', 'day post surgery', 'nsclc patients', 'association', 'postoperative morbidities', 'serum ace2 level', 'prognostic factor', 'non-small cell lung cancer patients', 'independent risk factor', 'serum angiotensin-converting enzyme 2 level', 'postoperative morbidity', 'major pulmonary resection', 'mortality', 'day post surgery', 'nsclc patients', 'association', 'postoperative morbidities', 'serum ace2 level', 'prognostic factor', 'non-small cell lung cancer patients', 'independent risk factor', 'serum angiotensin-converting enzyme 2 level', 'postoperative morbidity', 'major pulmonary resection', 'mortality', 'day post surgery', 'nsclc patients', 'hypoxic tumor cells', 'hypoxia-induced ras dysregulation', 'ras inhibitors', 'potentially therapeutic effects', 'local renin-angiotensin system', 'hypoxia induces dysregulation', 'hypoxia-mimetic cobalt chloride', 'mouse lewis lung carcinoma cells', 'renin-angiotensin system', 'hypoxia up-regulated angiotensin ii', 'regulate ras expression', 'suppressed vascular endothelial growth factor-', 'influences cancer biology', 'angiotensin ii type 2 receptor', 'tumor local ras remains poorly understood', 'mouse lewis lung carcinoma', 'cancer biology', 'local ras', 'local ras expression', 'angiotensin ii type 1 receptor', 'arb treatment', 'gbc cells', 'restored ace2 level mitigated gbc growth', 'potential therapeutic benefit', 'promoted tumour cell growth', 'therapeutic potential', 'arb blocked a2-induced gbc cell growth', 'human gallbladder epithelial cells', 'normal gallbladder cells', 'ace2 level', 'vivo gbc mouse models subject', 'xenograft mouse models', 'gbc cells compared', 'angiotensin receptor blocker', 'vivo study', 'gbc patients', 'angiotensin-converting enzyme 2 promotes growth', 'enlarged tumour size', 'arb inhibited tumour growth', 'angiotensin-converting enzyme 2', 'increasing grade', 'hepatic fibrosis', 'cancer genome atlas', 'liver specimens', 'poor prognosis', 'data suggests', 'renin-angiotensin system genes', 'vascular endothelial growth factor', 'gene expression omnibus', 'renin-angiotensin system', 'disease severity', 'angiotensin converting enzyme 2', 'relative hepatic mrna levels', 'low expression', 'common cancers worldwide', 'longer survival time', 'hepatocellular carcinoma', 'negative correlation', 'angiotensin ii', 'mrna levels', 'promoting cancer cell proliferation', 'pak1/nf-?b/snail1 pathways', '/mas axis', '/mas axis activation inhibits store-operated calcium entry', 'breast tumor grade', '/mas axis inhibits breast cancer cell migration', 'metastasis', 'breast cancer develop metastasis', 'tumor microenvironment', 'orthotopic human breast tumor growth', 'inhibiting cancer-', 'ace2 protein level', 'induces e-cadherin expression', 'breast cancer cells', 'enhancing store-operated calcium entry', '/mas axis promotes breast cancer metastasis', 'metastatic breast cancer', ']/mas axis', 'metastatic ability', '/mas axis stimulates breast cancer metastasis', 'nsclc cell lines', 'lower ace2 expression', 'ace2 overexpres-sion inhibited cell growth', 'inhibit cell growth', 'ace2 overexpression inhibited', 'ace2 overexpression reduced', 'newly identified component', 'vascular endothelial growth factor', 'acquired platinum-resistant sublines', 'ace2 overexpression inhibits acquired platinum resistance-induced tumor angiogenesis', 'non-small cell lung cancer', 'parent cells', 'platinum-resistant cells showed significantly higher angiotensin\\\\xa0ii type\\\\xa01 receptor', 'simultaneously suppressing ace', 'ace2 overexpression', 'human lung cancer xenografts', 'angiotensin\\\\xa0ii', 'potentially suppress angiogenesis', 'acquired platinum resistance', 'multifunctional bioactive peptide', 'renin-expressing progenitors enriches', 'ras molecules including ace', 'mutant renin-expressing hematopoietic precursors', 'mutant cells undergo', 'hematopoietic organs', 'renin cell requires rbp-', 'ace2 promotes proliferation', 'local renin-angiotensin system', 'hematopoietic stem cell biology', 'local bm ras peptides control', 'angiotensin ii regulates', 'review recent developments', 'local bm ras', 'angiotensin ii attenuates', 'hematopoietic stem cells', 'highly penetrant b-cell leukemia', 'hematopoietic bone marrow', 'local bone marrow renin-angiotensin system', 'precursor b-cell gene programme', 'hematopoietic niche', 'clear cell renal cell carcinoma patients', 'renal neoplasms', 'renal tumor patients', 'metastatic ccrcc patients', 'renal tumors', 'ucla integrated staging system', 'apa independently correlated', 'tumor cells whilst angiotensin-converting enzyme', 'intratumor blood vessels', 'mayo clinic stage', 'ccrcc patients', 'intrarenal renin-angiotensin system', 'cell differentiation', 'serum ace activity', 'tumor tissue', 'clear cell renal cell carcinoma', 'serum activity', 'angiotensin-converting enzyme-2', 'papillary renal cell carcinoma', 'endothelial cells', 'bioinformatics analyses showed', 'oscc', 'literature review', 'oral squamous cell carcinoma', 'potential targets', 'interesting targets', 'studies involving ras', 'review', 'bioinformatics analyses focused', 'malignant epithelial neoplasia', 'experimental validation', 'encouraged', 'oscc treatment', 'ace2', 'ace', 'angiotensin-converting enzymes', 'bioinformatics analyses showed', 'oscc', 'literature review', 'oral squamous cell carcinoma', 'potential targets', 'interesting targets', 'studies involving ras', 'review', 'bioinformatics analyses focused', 'malignant epithelial neoplasia', 'experimental validation', 'encouraged', 'oscc treatment', 'ace2', 'ace', 'angiotensin-converting enzymes', 'bioinformatics analyses showed', 'oscc', 'literature review', 'oral squamous cell carcinoma', 'potential targets', 'interesting targets', 'studies involving ras', 'review', 'bioinformatics analyses focused', 'malignant epithelial neoplasia', 'experimental validation', 'encouraged', 'oscc treatment', 'ace2', 'ace', 'angiotensin-converting enzymes']\n",
            "----------------------------------------------\n",
            "# of cleaned keywords=  436\n"
          ],
          "name": "stdout"
        }
      ]
    },
    {
      "cell_type": "code",
      "metadata": {
        "id": "w7Uu6dPGAe9l"
      },
      "source": [
        "# Saved the long keywords cleaned array to file\n",
        "pd.DataFrame(keywordsArrCleaned).to_csv(\"/content/ACAbstractLongKeywords.csv\")"
      ],
      "execution_count": null,
      "outputs": []
    },
    {
      "cell_type": "code",
      "metadata": {
        "id": "CLd83027FkTM",
        "outputId": "16519092-4007-44db-e6d2-bb9674100f67",
        "colab": {
          "base_uri": "https://localhost:8080/",
          "height": 204
        }
      },
      "source": [
        "# Read the cleaned long keyword csv file\n",
        "file1 = pd.read_csv('/content/ACAbstractLongKeywordsCleanedCSV.csv', header=None)\n",
        "file1.info()\n",
        "print(file1.loc[1,1])\n",
        "# print(file1.shape[0])\n",
        "# First row is 1\n",
        "# print(file1.loc[1,1])\n",
        "# Last row is 436\n",
        "print(file1.loc[436, 1])"
      ],
      "execution_count": null,
      "outputs": [
        {
          "output_type": "stream",
          "text": [
            "<class 'pandas.core.frame.DataFrame'>\n",
            "RangeIndex: 437 entries, 0 to 436\n",
            "Data columns (total 2 columns):\n",
            " #   Column  Non-Null Count  Dtype \n",
            "---  ------  --------------  ----- \n",
            " 0   0       437 non-null    object\n",
            " 1   1       437 non-null    object\n",
            "dtypes: object(2)\n",
            "memory usage: 7.0+ KB\n",
            "renal injury\n",
            "angiotensin-converting-enzymes\n"
          ],
          "name": "stdout"
        }
      ]
    },
    {
      "cell_type": "code",
      "metadata": {
        "id": "ZijGaTv8EwLq",
        "outputId": "2889cf79-a1e3-46e7-f5bc-a697037b6d74",
        "colab": {
          "base_uri": "https://localhost:8080/",
          "height": 71
        }
      },
      "source": [
        "# From the cleaned long keyword csv file extract shorter keywords separated by space\n",
        "shortKeywordArr = []\n",
        "for i in range(1, 437):\n",
        "  longText=file1.loc[i, 1].lstrip()\n",
        "  shortKeywordArr.append(longText.split(' '))\n",
        "print(shortKeywordArr)\n",
        "shortKeywordsArrCleaned = []\n",
        "for n in range(0, len(shortKeywordArr)):\n",
        "  for m in range(0, len(shortKeywordArr[n])):\n",
        "    shortKeywordsArrCleaned.append(shortKeywordArr[n][m])\n",
        "print(shortKeywordsArrCleaned)\n"
      ],
      "execution_count": null,
      "outputs": [
        {
          "output_type": "stream",
          "text": [
            "[['renal', 'injury'], ['mrna', 'expression'], ['qrt-pcr', 'assays'], ['spectrophotometric', 'assays'], ['metabolic', 'imbalance'], ['renal', 'cell', 'carcinomas'], ['distal', 'nephron'], ['renal', 'oncocytoma'], ['potential', 'prognostic/diagnostic', 'markers'], ['enzyme', 'activity'], ['non-neoplastic', 'kidney', 'diseases'], ['renal', 'tubules'], ['ace2', 'activity/protein', 'expression'], ['intrarenal', 'renin-angiotensin', 'system'], ['mrna', 'levels'], ['findings', 'suggest'], ['renal', 'neoplastic', 'diseases'], ['renal', 'function'], ['ace2', 'mrna', 'levels'], ['highly', 'expressed'], ['prognosis', 'markers'], ['high', 'tnm', 'stage'], ['fzd1', 'expression'], ['ace2', 'expression', 'negatively', 'correlated'], ['large', 'tumor', 'size'], ['tumor', 'size'], ['squamous', 'cell/adenosquamous', 'carcinoma'], ['gallbladder', 'cancer', 'subtype'], ['negative', 'ace2', 'expression'], ['independent', 'poor-prognostic', 'factors'], ['average', 'survival', 'time'], ['univariate', 'kaplan-meier', 'analysis', 'showed'], ['gallbladder', 'cancer'], ['rare', 'occurrence'], ['surgical', 'curability'], ['fzd1', 'expression', 'positively'], ['multivariate', 'cox', 'regression', 'analysis', 'showed'], ['lymph', 'node', 'metastasis'], ['tnm', 'stage'], ['examined', 'ace2'], ['validated', 'gene', 'models'], ['successfully', 'stratify', 'patients'], ['multigene', 'predictor'], ['recurrence'], ['laryngeal', 'cancer'], ['identification'], ['primary', 'laryngeal', 'cancer'], ['worthy'], ['routine', 'clinical', 'applications'], ['established'], ['risk'], ['validation'], ['based'], ['laryngeal', 'cancer', 'prognostic', 'marker'], ['prospectively', 'validate', 'prkd1', 'expression'], ['validated', 'gene', 'models'], ['successfully', 'stratify', 'patients'], ['multigene', 'predictor'], ['recurrence'], ['laryngeal', 'cancer'], ['identification'], ['primary', 'laryngeal', 'cancer'], ['worthy'], ['routine', 'clinical', 'applications'], ['established'], ['risk'], ['validation'], ['based'], ['laryngeal', 'cancer', 'prognostic', 'marker'], ['prospectively', 'validate', 'prkd1', 'expression'], ['validated', 'gene', 'models'], ['successfully', 'stratify', 'patients'], ['multigene', 'predictor'], ['recurrence'], ['laryngeal', 'cancer'], ['identification'], ['primary', 'laryngeal', 'cancer'], ['worthy'], ['routine', 'clinical', 'applications'], ['established'], ['risk'], ['validation'], ['based'], ['laryngeal', 'cancer', 'prognostic', 'marker'], ['prospectively', 'validate', 'prkd1', 'expression'], ['validated', 'gene', 'models'], ['successfully', 'stratify', 'patients'], ['multigene', 'predictor'], ['recurrence'], ['laryngeal', 'cancer'], ['identification'], ['primary', 'laryngeal', 'cancer'], ['worthy'], ['routine', 'clinical', 'applications'], ['established'], ['risk'], ['validation'], ['based'], ['laryngeal', 'cancer', 'prognostic', 'marker'], ['prospectively', 'validate', 'prkd1', 'expression'], ['pcos'], ['mas', 'axis'], ['significance'], ['patients'], ['at2', 'mrna'], ['local', 'existence'], ['at1', 'mrna'], ['ras'], ['influence', 'endometrial', 'development'], ['increased', 'expressions'], ['1-7'], ['mas', 'myna'], ['polycystic', 'ovary', 'syndrome'], ['ace2', 'mrna'], ['endometrium'], ['play'], ['role'], ['expression'], ['pathological', 'process'], ['ace2-ang'], ['pcos'], ['mas', 'axis'], ['significance'], ['patients'], ['at2', 'mrna'], ['local', 'existence'], ['at1', 'mrna'], ['ras'], ['influence', 'endometrial', 'development'], ['increased', 'expressions'], ['1-7'], ['mas', 'mrna'], ['polycystic', 'ovary', 'syndrome'], ['ace2', 'mrna'], ['endometrium'], ['play'], ['role'], ['expression'], ['pathological', 'process'], ['ace2-ang'], ['pcos'], ['mas', 'axis'], ['significance'], ['patients'], ['at2', 'mrna'], ['local', 'existence'], ['at1', 'mrna'], ['ras'], ['influence', 'endometrial', 'development'], ['increased', 'expressions'], ['1-7'], ['mas', 'mrna'], ['polycystic', 'ovary', 'syndrome'], ['ace2', 'mrna'], ['endometrium'], ['play'], ['role'], ['expression'], ['pathological', 'process'], ['ace2-ang'], ['pcos'], ['mas', 'axis'], ['significance'], ['patients'], ['at2', 'mrna'], ['local', 'existence'], ['at1', 'mrna'], ['ras'], ['influence', 'endometrial', 'development'], ['increased', 'expressions'], ['1-7'], ['mas', 'mrna'], ['polycystic', 'ovary', 'syndrome'], ['ace2', 'mrna'], ['endometrium'], ['play'], ['role'], ['expression'], ['pathological', 'process'], ['ace2-ang'], ['common', 'cancers'], ['mediate', 'processes'], ['including', 'basal', 'cell', 'carcinoma'], ['immunohistochemical', 'expression'], ['squamous', 'cell', 'carcinoma'], ['basal', 'epidermal', 'layers'], ['normal', 'skin'], ['ace', 'immunoreactivity'], ['cardiovascular', 'homeostasis'], ['sebaceous', 'gland', 'cells'], ['ace2', 'immunoreactivity'], ['significantly', 'higher'], ['significantly', 'higher', 'ace', 'immunoreactivity', 'occurred'], ['nonmelanoma', 'skin', 'cancers'], ['cytoplasmic-nuclear', 'ace', 'immunoreactivity'], ['actinic', 'keratosis'], ['archival', 'samples'], ['observations', 'suggest'], ['malignant', 'skin', 'lesions'], ['angiotensin-converting', 'enzyme', '2'], ['association'], ['postoperative', 'morbidities'], ['serum', 'ace2', 'level'], ['prognostic', 'factor'], ['non-small', 'cell', 'lung', 'cancer', 'patients'], ['independent', 'risk', 'factor'], ['serum', 'angiotensin-converting-enzyme-2', 'level'], ['postoperative', 'morbidity'], ['major', 'pulmonary', 'resection'], ['mortality'], ['day', 'post', 'surgery'], ['nsclc', 'patients'], ['association'], ['postoperative', 'morbidities'], ['serum', 'ace2', 'level'], ['prognostic', 'factor'], ['non-small', 'cell', 'lung', 'cancer', 'patients'], ['independent', 'risk', 'factor'], ['serum', 'angiotensin-converting-enzyme-2', 'level'], ['postoperative', 'morbidity'], ['major', 'pulmonary', 'resection'], ['mortality'], ['day', 'post', 'surgery'], ['nsclc', 'patients'], ['association'], ['postoperative', 'morbidities'], ['serum', 'ace2', 'level'], ['prognostic', 'factor'], ['non-small', 'cell', 'lung', 'cancer', 'patients'], ['independent', 'risk', 'factor'], ['serum', 'angiotensin-converting-enzyme-2', 'level'], ['postoperative', 'morbidity'], ['major', 'pulmonary', 'resection'], ['mortality'], ['day', 'post', 'surgery'], ['nsclc', 'patients'], ['association'], ['postoperative', 'morbidities'], ['serum', 'ace2', 'level'], ['prognostic', 'factor'], ['non-small', 'cell', 'lung', 'cancer', 'patients'], ['independent', 'risk', 'factor'], ['serum', 'angiotensin-converting-enzyme-2', 'level'], ['postoperative', 'morbidity'], ['major', 'pulmonary', 'resection'], ['mortality'], ['day', 'post', 'surgery'], ['nsclc', 'patients'], ['hypoxic', 'tumor', 'cells'], ['hypoxia-induced', 'ras', 'dysregulation'], ['ras', 'inhibitors'], ['potentially', 'therapeutic', 'effects'], ['local', 'renin-angiotensin', 'system'], ['hypoxia', 'induces', 'dysregulation'], ['hypoxia-mimetic', 'cobalt', 'chloride'], ['mouse', 'lewis', 'lung', 'carcinoma', 'cells'], ['renin-angiotensin', 'system'], ['hypoxia', 'up-regulated', 'angiotensin', 'ii'], ['regulate', 'ras', 'expression'], ['suppressed', 'vascular', 'endothelial', 'growth', 'factor'], ['influences', 'cancer', 'biology'], ['angiotensin-ii', 'type-2', 'receptor'], ['tumor', 'local', 'ras', 'remains', 'poorly', 'understood'], ['mouse', 'lewis', 'lung', 'carcinoma'], ['cancer', 'biology'], ['local', 'ras'], ['local', 'ras', 'expression'], ['angiotensin-ii', 'type-1', 'receptor'], ['arb', 'treatment'], ['gbc', 'cells'], ['restored', 'ace2', 'level', 'mitigated', 'gbc', 'growth'], ['potential', 'therapeutic', 'benefit'], ['promoted', 'tumour', 'cell', 'growth'], ['therapeutic', 'potential'], ['arb', 'blocked', 'a2-induced', 'gbc', 'cell', 'growth'], ['human', 'gallbladder', 'epithelial', 'cells'], ['normal', 'gallbladder', 'cells'], ['ace2', 'level'], ['vivo', 'gbc', 'mouse', 'models', 'subject'], ['xenograft', 'mouse', 'models'], ['gbc', 'cells', 'compared'], ['angiotensin', 'receptor', 'blocker'], ['vivo', 'study'], ['gbc', 'patients'], ['angiotensin-converting-enzyme-2', 'promotes', 'growth'], ['enlarged', 'tumour', 'size'], ['arb', 'inhibited', 'tumour', 'growth'], ['angiotensin-converting-enzyme-2'], ['increasing', 'grade'], ['hepatic', 'fibrosis'], ['cancer', 'genome', 'atlas'], ['liver', 'specimens'], ['poor', 'prognosis'], ['data', 'suggests'], ['renin-angiotensin', 'system', 'genes'], ['vascular', 'endothelial', 'growth', 'factor'], ['gene', 'expression', 'omnibus'], ['renin-angiotensin', 'system'], ['disease', 'severity'], ['angiotensin-converting-enzyme-2', ''], ['relative', 'hepatic', 'mrna', 'levels'], ['low', 'expression'], ['common', 'cancers', 'worldwide'], ['longer', 'survival', 'time'], ['hepatocellular', 'carcinoma'], ['negative', 'correlation'], ['angiotensin', 'ii'], ['mrna', 'levels'], ['promoting', 'cancer', 'cell', 'proliferation'], ['pak1/nf-?b/snail1', 'pathways'], ['mas', 'axis'], ['mas', 'axis', 'activation', 'inhibits', 'store-operated', 'calcium', 'entry'], ['breast', 'tumor', 'grade'], ['mas', 'axis', 'inhibits', 'breast', 'cancer', 'cell', 'migration'], ['metastasis'], ['breast', 'cancer', 'develop', 'metastasis'], ['tumor', 'microenvironment'], ['orthotopic', 'human', 'breast', 'tumor', 'growth'], ['inhibiting', 'cancer-'], ['ace2', 'protein', 'level'], ['induces', 'e-cadherin', 'expression'], ['breast', 'cancer', 'cells'], ['enhancing', 'store-operated', 'calcium', 'entry'], ['mas', 'axis', 'promotes', 'breast', 'cancer', 'metastasis'], ['metastatic', 'breast', 'cancer'], ['mas', 'axis'], ['metastatic', 'ability'], ['mas', 'axis', 'stimulates', 'breast', 'cancer', 'metastasis'], ['nsclc', 'cell', 'lines'], ['lower', 'ace2', 'expression'], ['ace2', 'overexpression', 'inhibited', 'cell', 'growth'], ['inhibit', 'cell', 'growth'], ['ace2', 'overexpression', 'inhibited'], ['ace2', 'overexpression', 'reduced'], ['newly', 'identified', 'component'], ['vascular', 'endothelial', 'growth', 'factor'], ['acquired', 'platinum-resistant', 'sublines'], ['ace2', 'overexpression', 'inhibits', 'acquired', 'platinum', 'resistance-induced', 'tumor', 'angiogenesis'], ['non-small', 'cell', 'lung', 'cancer'], ['parent', 'cells'], ['platinum-resistant', 'cells', 'showed', 'significantly', 'higher', 'angiotensin\\\\xa0ii', 'type\\\\xa01', 'receptor'], ['simultaneously', 'suppressing', 'ace'], ['ace2', 'overexpression'], ['human', 'lung', 'cancer', 'xenografts'], ['angiotensin\\\\xa0ii'], ['potentially', 'suppress', 'angiogenesis'], ['acquired', 'platinum', 'resistance'], ['multifunctional', 'bioactive', 'peptide'], ['renin-expressing', 'progenitors', 'enriches'], ['ras', 'molecules', 'including', 'ace'], ['mutant', 'renin-expressing', 'hematopoietic', 'precursors'], ['mutant', 'cells', 'undergo'], ['hematopoietic', 'organs'], ['renin', 'cell', 'requires', 'rbp-'], ['ace2', 'promotes', 'proliferation'], ['local', 'renin-angiotensin', 'system'], ['hematopoietic', 'stem', 'cell', 'biology'], ['local', 'bm', 'ras', 'peptides', 'control'], ['angiotensin-ii', 'regulates'], ['review', 'recent', 'developments'], ['local', 'bm', 'ras'], ['angiotensin-ii', 'attenuates'], ['hematopoietic', 'stem', 'cells'], ['highly', 'penetrant', 'b-cell', 'leukemia'], ['hematopoietic', 'bone', 'marrow'], ['local', 'bone', 'marrow', 'renin-angiotensin', 'system'], ['precursor', 'b-cell', 'gene', 'programme'], ['hematopoietic', 'niche'], ['clear', 'cell', 'renal', 'cell', 'carcinoma', 'patients'], ['renal', 'neoplasms'], ['renal', 'tumor', 'patients'], ['metastatic', 'ccrcc', 'patients'], ['renal', 'tumors'], ['ucla', 'integrated', 'staging', 'system'], ['apa', 'independently', 'correlated'], ['tumor', 'cells', 'whilst', 'angiotensin-converting-enzyme'], ['intratumor', 'blood', 'vessels'], ['mayo', 'clinic', 'stage'], ['ccrcc', 'patients'], ['intrarenal', 'renin-angiotensin', 'system'], ['cell', 'differentiation'], ['serum', 'ace', 'activity'], ['tumor', 'tissue'], ['clear', 'cell', 'renal', 'cell', 'carcinoma'], ['serum', 'activity'], ['angiotensin-converting-enzyme-2'], ['papillary', 'renal', 'cell', 'carcinoma'], ['endothelial', 'cells'], ['bioinformatics', 'analyses', 'showed'], ['oscc'], ['literature', 'review'], ['oral', 'squamous', 'cell', 'carcinoma'], ['potential', 'targets'], ['interesting', 'targets'], ['studies', 'involving', 'ras'], ['review'], ['bioinformatics', 'analyses', 'focused'], ['malignant', 'epithelial', 'neoplasia'], ['experimental', 'validation'], ['encouraged'], ['oscc', 'treatment'], ['ace2'], ['ace'], ['angiotensin-converting-enzymes'], ['bioinformatics', 'analyses', 'showed'], ['oscc'], ['literature', 'review'], ['oral', 'squamous', 'cell', 'carcinoma'], ['potential', 'targets'], ['interesting', 'targets'], ['studies', 'involving', 'ras'], ['review'], ['bioinformatics', 'analyses', 'focused'], ['malignant', 'epithelial', 'neoplasia'], ['experimental', 'validation'], ['encouraged'], ['oscc', 'treatment'], ['ace2'], ['ace'], ['angiotensin-converting-enzymes'], ['bioinformatics', 'analyses', 'showed'], ['oscc'], ['literature', 'review'], ['oral', 'squamous', 'cell', 'carcinoma'], ['potential', 'targets'], ['interesting', 'targets'], ['studies', 'involving', 'ras'], ['review'], ['bioinformatics', 'analyses', 'focused'], ['malignant', 'epithelial', 'neoplasia'], ['experimental', 'validation'], ['encouraged'], ['oscc', 'treatment'], ['ace2'], ['ace'], ['angiotensin-converting-enzymes']]\n",
            "['renal', 'injury', 'mrna', 'expression', 'qrt-pcr', 'assays', 'spectrophotometric', 'assays', 'metabolic', 'imbalance', 'renal', 'cell', 'carcinomas', 'distal', 'nephron', 'renal', 'oncocytoma', 'potential', 'prognostic/diagnostic', 'markers', 'enzyme', 'activity', 'non-neoplastic', 'kidney', 'diseases', 'renal', 'tubules', 'ace2', 'activity/protein', 'expression', 'intrarenal', 'renin-angiotensin', 'system', 'mrna', 'levels', 'findings', 'suggest', 'renal', 'neoplastic', 'diseases', 'renal', 'function', 'ace2', 'mrna', 'levels', 'highly', 'expressed', 'prognosis', 'markers', 'high', 'tnm', 'stage', 'fzd1', 'expression', 'ace2', 'expression', 'negatively', 'correlated', 'large', 'tumor', 'size', 'tumor', 'size', 'squamous', 'cell/adenosquamous', 'carcinoma', 'gallbladder', 'cancer', 'subtype', 'negative', 'ace2', 'expression', 'independent', 'poor-prognostic', 'factors', 'average', 'survival', 'time', 'univariate', 'kaplan-meier', 'analysis', 'showed', 'gallbladder', 'cancer', 'rare', 'occurrence', 'surgical', 'curability', 'fzd1', 'expression', 'positively', 'multivariate', 'cox', 'regression', 'analysis', 'showed', 'lymph', 'node', 'metastasis', 'tnm', 'stage', 'examined', 'ace2', 'validated', 'gene', 'models', 'successfully', 'stratify', 'patients', 'multigene', 'predictor', 'recurrence', 'laryngeal', 'cancer', 'identification', 'primary', 'laryngeal', 'cancer', 'worthy', 'routine', 'clinical', 'applications', 'established', 'risk', 'validation', 'based', 'laryngeal', 'cancer', 'prognostic', 'marker', 'prospectively', 'validate', 'prkd1', 'expression', 'validated', 'gene', 'models', 'successfully', 'stratify', 'patients', 'multigene', 'predictor', 'recurrence', 'laryngeal', 'cancer', 'identification', 'primary', 'laryngeal', 'cancer', 'worthy', 'routine', 'clinical', 'applications', 'established', 'risk', 'validation', 'based', 'laryngeal', 'cancer', 'prognostic', 'marker', 'prospectively', 'validate', 'prkd1', 'expression', 'validated', 'gene', 'models', 'successfully', 'stratify', 'patients', 'multigene', 'predictor', 'recurrence', 'laryngeal', 'cancer', 'identification', 'primary', 'laryngeal', 'cancer', 'worthy', 'routine', 'clinical', 'applications', 'established', 'risk', 'validation', 'based', 'laryngeal', 'cancer', 'prognostic', 'marker', 'prospectively', 'validate', 'prkd1', 'expression', 'validated', 'gene', 'models', 'successfully', 'stratify', 'patients', 'multigene', 'predictor', 'recurrence', 'laryngeal', 'cancer', 'identification', 'primary', 'laryngeal', 'cancer', 'worthy', 'routine', 'clinical', 'applications', 'established', 'risk', 'validation', 'based', 'laryngeal', 'cancer', 'prognostic', 'marker', 'prospectively', 'validate', 'prkd1', 'expression', 'pcos', 'mas', 'axis', 'significance', 'patients', 'at2', 'mrna', 'local', 'existence', 'at1', 'mrna', 'ras', 'influence', 'endometrial', 'development', 'increased', 'expressions', '1-7', 'mas', 'myna', 'polycystic', 'ovary', 'syndrome', 'ace2', 'mrna', 'endometrium', 'play', 'role', 'expression', 'pathological', 'process', 'ace2-ang', 'pcos', 'mas', 'axis', 'significance', 'patients', 'at2', 'mrna', 'local', 'existence', 'at1', 'mrna', 'ras', 'influence', 'endometrial', 'development', 'increased', 'expressions', '1-7', 'mas', 'mrna', 'polycystic', 'ovary', 'syndrome', 'ace2', 'mrna', 'endometrium', 'play', 'role', 'expression', 'pathological', 'process', 'ace2-ang', 'pcos', 'mas', 'axis', 'significance', 'patients', 'at2', 'mrna', 'local', 'existence', 'at1', 'mrna', 'ras', 'influence', 'endometrial', 'development', 'increased', 'expressions', '1-7', 'mas', 'mrna', 'polycystic', 'ovary', 'syndrome', 'ace2', 'mrna', 'endometrium', 'play', 'role', 'expression', 'pathological', 'process', 'ace2-ang', 'pcos', 'mas', 'axis', 'significance', 'patients', 'at2', 'mrna', 'local', 'existence', 'at1', 'mrna', 'ras', 'influence', 'endometrial', 'development', 'increased', 'expressions', '1-7', 'mas', 'mrna', 'polycystic', 'ovary', 'syndrome', 'ace2', 'mrna', 'endometrium', 'play', 'role', 'expression', 'pathological', 'process', 'ace2-ang', 'common', 'cancers', 'mediate', 'processes', 'including', 'basal', 'cell', 'carcinoma', 'immunohistochemical', 'expression', 'squamous', 'cell', 'carcinoma', 'basal', 'epidermal', 'layers', 'normal', 'skin', 'ace', 'immunoreactivity', 'cardiovascular', 'homeostasis', 'sebaceous', 'gland', 'cells', 'ace2', 'immunoreactivity', 'significantly', 'higher', 'significantly', 'higher', 'ace', 'immunoreactivity', 'occurred', 'nonmelanoma', 'skin', 'cancers', 'cytoplasmic-nuclear', 'ace', 'immunoreactivity', 'actinic', 'keratosis', 'archival', 'samples', 'observations', 'suggest', 'malignant', 'skin', 'lesions', 'angiotensin-converting', 'enzyme', '2', 'association', 'postoperative', 'morbidities', 'serum', 'ace2', 'level', 'prognostic', 'factor', 'non-small', 'cell', 'lung', 'cancer', 'patients', 'independent', 'risk', 'factor', 'serum', 'angiotensin-converting-enzyme-2', 'level', 'postoperative', 'morbidity', 'major', 'pulmonary', 'resection', 'mortality', 'day', 'post', 'surgery', 'nsclc', 'patients', 'association', 'postoperative', 'morbidities', 'serum', 'ace2', 'level', 'prognostic', 'factor', 'non-small', 'cell', 'lung', 'cancer', 'patients', 'independent', 'risk', 'factor', 'serum', 'angiotensin-converting-enzyme-2', 'level', 'postoperative', 'morbidity', 'major', 'pulmonary', 'resection', 'mortality', 'day', 'post', 'surgery', 'nsclc', 'patients', 'association', 'postoperative', 'morbidities', 'serum', 'ace2', 'level', 'prognostic', 'factor', 'non-small', 'cell', 'lung', 'cancer', 'patients', 'independent', 'risk', 'factor', 'serum', 'angiotensin-converting-enzyme-2', 'level', 'postoperative', 'morbidity', 'major', 'pulmonary', 'resection', 'mortality', 'day', 'post', 'surgery', 'nsclc', 'patients', 'association', 'postoperative', 'morbidities', 'serum', 'ace2', 'level', 'prognostic', 'factor', 'non-small', 'cell', 'lung', 'cancer', 'patients', 'independent', 'risk', 'factor', 'serum', 'angiotensin-converting-enzyme-2', 'level', 'postoperative', 'morbidity', 'major', 'pulmonary', 'resection', 'mortality', 'day', 'post', 'surgery', 'nsclc', 'patients', 'hypoxic', 'tumor', 'cells', 'hypoxia-induced', 'ras', 'dysregulation', 'ras', 'inhibitors', 'potentially', 'therapeutic', 'effects', 'local', 'renin-angiotensin', 'system', 'hypoxia', 'induces', 'dysregulation', 'hypoxia-mimetic', 'cobalt', 'chloride', 'mouse', 'lewis', 'lung', 'carcinoma', 'cells', 'renin-angiotensin', 'system', 'hypoxia', 'up-regulated', 'angiotensin', 'ii', 'regulate', 'ras', 'expression', 'suppressed', 'vascular', 'endothelial', 'growth', 'factor', 'influences', 'cancer', 'biology', 'angiotensin-ii', 'type-2', 'receptor', 'tumor', 'local', 'ras', 'remains', 'poorly', 'understood', 'mouse', 'lewis', 'lung', 'carcinoma', 'cancer', 'biology', 'local', 'ras', 'local', 'ras', 'expression', 'angiotensin-ii', 'type-1', 'receptor', 'arb', 'treatment', 'gbc', 'cells', 'restored', 'ace2', 'level', 'mitigated', 'gbc', 'growth', 'potential', 'therapeutic', 'benefit', 'promoted', 'tumour', 'cell', 'growth', 'therapeutic', 'potential', 'arb', 'blocked', 'a2-induced', 'gbc', 'cell', 'growth', 'human', 'gallbladder', 'epithelial', 'cells', 'normal', 'gallbladder', 'cells', 'ace2', 'level', 'vivo', 'gbc', 'mouse', 'models', 'subject', 'xenograft', 'mouse', 'models', 'gbc', 'cells', 'compared', 'angiotensin', 'receptor', 'blocker', 'vivo', 'study', 'gbc', 'patients', 'angiotensin-converting-enzyme-2', 'promotes', 'growth', 'enlarged', 'tumour', 'size', 'arb', 'inhibited', 'tumour', 'growth', 'angiotensin-converting-enzyme-2', 'increasing', 'grade', 'hepatic', 'fibrosis', 'cancer', 'genome', 'atlas', 'liver', 'specimens', 'poor', 'prognosis', 'data', 'suggests', 'renin-angiotensin', 'system', 'genes', 'vascular', 'endothelial', 'growth', 'factor', 'gene', 'expression', 'omnibus', 'renin-angiotensin', 'system', 'disease', 'severity', 'angiotensin-converting-enzyme-2', '', 'relative', 'hepatic', 'mrna', 'levels', 'low', 'expression', 'common', 'cancers', 'worldwide', 'longer', 'survival', 'time', 'hepatocellular', 'carcinoma', 'negative', 'correlation', 'angiotensin', 'ii', 'mrna', 'levels', 'promoting', 'cancer', 'cell', 'proliferation', 'pak1/nf-?b/snail1', 'pathways', 'mas', 'axis', 'mas', 'axis', 'activation', 'inhibits', 'store-operated', 'calcium', 'entry', 'breast', 'tumor', 'grade', 'mas', 'axis', 'inhibits', 'breast', 'cancer', 'cell', 'migration', 'metastasis', 'breast', 'cancer', 'develop', 'metastasis', 'tumor', 'microenvironment', 'orthotopic', 'human', 'breast', 'tumor', 'growth', 'inhibiting', 'cancer-', 'ace2', 'protein', 'level', 'induces', 'e-cadherin', 'expression', 'breast', 'cancer', 'cells', 'enhancing', 'store-operated', 'calcium', 'entry', 'mas', 'axis', 'promotes', 'breast', 'cancer', 'metastasis', 'metastatic', 'breast', 'cancer', 'mas', 'axis', 'metastatic', 'ability', 'mas', 'axis', 'stimulates', 'breast', 'cancer', 'metastasis', 'nsclc', 'cell', 'lines', 'lower', 'ace2', 'expression', 'ace2', 'overexpression', 'inhibited', 'cell', 'growth', 'inhibit', 'cell', 'growth', 'ace2', 'overexpression', 'inhibited', 'ace2', 'overexpression', 'reduced', 'newly', 'identified', 'component', 'vascular', 'endothelial', 'growth', 'factor', 'acquired', 'platinum-resistant', 'sublines', 'ace2', 'overexpression', 'inhibits', 'acquired', 'platinum', 'resistance-induced', 'tumor', 'angiogenesis', 'non-small', 'cell', 'lung', 'cancer', 'parent', 'cells', 'platinum-resistant', 'cells', 'showed', 'significantly', 'higher', 'angiotensin\\\\xa0ii', 'type\\\\xa01', 'receptor', 'simultaneously', 'suppressing', 'ace', 'ace2', 'overexpression', 'human', 'lung', 'cancer', 'xenografts', 'angiotensin\\\\xa0ii', 'potentially', 'suppress', 'angiogenesis', 'acquired', 'platinum', 'resistance', 'multifunctional', 'bioactive', 'peptide', 'renin-expressing', 'progenitors', 'enriches', 'ras', 'molecules', 'including', 'ace', 'mutant', 'renin-expressing', 'hematopoietic', 'precursors', 'mutant', 'cells', 'undergo', 'hematopoietic', 'organs', 'renin', 'cell', 'requires', 'rbp-', 'ace2', 'promotes', 'proliferation', 'local', 'renin-angiotensin', 'system', 'hematopoietic', 'stem', 'cell', 'biology', 'local', 'bm', 'ras', 'peptides', 'control', 'angiotensin-ii', 'regulates', 'review', 'recent', 'developments', 'local', 'bm', 'ras', 'angiotensin-ii', 'attenuates', 'hematopoietic', 'stem', 'cells', 'highly', 'penetrant', 'b-cell', 'leukemia', 'hematopoietic', 'bone', 'marrow', 'local', 'bone', 'marrow', 'renin-angiotensin', 'system', 'precursor', 'b-cell', 'gene', 'programme', 'hematopoietic', 'niche', 'clear', 'cell', 'renal', 'cell', 'carcinoma', 'patients', 'renal', 'neoplasms', 'renal', 'tumor', 'patients', 'metastatic', 'ccrcc', 'patients', 'renal', 'tumors', 'ucla', 'integrated', 'staging', 'system', 'apa', 'independently', 'correlated', 'tumor', 'cells', 'whilst', 'angiotensin-converting-enzyme', 'intratumor', 'blood', 'vessels', 'mayo', 'clinic', 'stage', 'ccrcc', 'patients', 'intrarenal', 'renin-angiotensin', 'system', 'cell', 'differentiation', 'serum', 'ace', 'activity', 'tumor', 'tissue', 'clear', 'cell', 'renal', 'cell', 'carcinoma', 'serum', 'activity', 'angiotensin-converting-enzyme-2', 'papillary', 'renal', 'cell', 'carcinoma', 'endothelial', 'cells', 'bioinformatics', 'analyses', 'showed', 'oscc', 'literature', 'review', 'oral', 'squamous', 'cell', 'carcinoma', 'potential', 'targets', 'interesting', 'targets', 'studies', 'involving', 'ras', 'review', 'bioinformatics', 'analyses', 'focused', 'malignant', 'epithelial', 'neoplasia', 'experimental', 'validation', 'encouraged', 'oscc', 'treatment', 'ace2', 'ace', 'angiotensin-converting-enzymes', 'bioinformatics', 'analyses', 'showed', 'oscc', 'literature', 'review', 'oral', 'squamous', 'cell', 'carcinoma', 'potential', 'targets', 'interesting', 'targets', 'studies', 'involving', 'ras', 'review', 'bioinformatics', 'analyses', 'focused', 'malignant', 'epithelial', 'neoplasia', 'experimental', 'validation', 'encouraged', 'oscc', 'treatment', 'ace2', 'ace', 'angiotensin-converting-enzymes', 'bioinformatics', 'analyses', 'showed', 'oscc', 'literature', 'review', 'oral', 'squamous', 'cell', 'carcinoma', 'potential', 'targets', 'interesting', 'targets', 'studies', 'involving', 'ras', 'review', 'bioinformatics', 'analyses', 'focused', 'malignant', 'epithelial', 'neoplasia', 'experimental', 'validation', 'encouraged', 'oscc', 'treatment', 'ace2', 'ace', 'angiotensin-converting-enzymes']\n"
          ],
          "name": "stdout"
        }
      ]
    },
    {
      "cell_type": "code",
      "metadata": {
        "id": "FbE9NGAZJIer"
      },
      "source": [
        "# Save the short keywords cleaned array to file\n",
        "pd.DataFrame(shortKeywordsArrCleaned).to_csv(\"/content/ACAbstractShortKeywords.csv\")"
      ],
      "execution_count": null,
      "outputs": []
    }
  ]
}